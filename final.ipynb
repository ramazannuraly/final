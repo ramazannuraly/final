{
  "nbformat": 4,
  "nbformat_minor": 0,
  "metadata": {
    "colab": {
      "name": "final.ipynb",
      "provenance": [],
      "authorship_tag": "ABX9TyP04q0ZcgOOaeF9MGAns4d8",
      "include_colab_link": true
    },
    "kernelspec": {
      "name": "python3",
      "display_name": "Python 3"
    },
    "language_info": {
      "name": "python"
    }
  },
  "cells": [
    {
      "cell_type": "markdown",
      "metadata": {
        "id": "view-in-github",
        "colab_type": "text"
      },
      "source": [
        "<a href=\"https://colab.research.google.com/github/ramazannuraly/final/blob/main/final.ipynb\" target=\"_parent\"><img src=\"https://colab.research.google.com/assets/colab-badge.svg\" alt=\"Open In Colab\"/></a>"
      ]
    },
    {
      "cell_type": "code",
      "metadata": {
        "id": "GxbTk-O8Ip3l"
      },
      "source": [
        "import pandas as pd\n"
      ],
      "execution_count": 1,
      "outputs": []
    },
    {
      "cell_type": "code",
      "metadata": {
        "colab": {
          "resources": {
            "http://localhost:8080/nbextensions/google.colab/files.js": {
              "data": "Ly8gQ29weXJpZ2h0IDIwMTcgR29vZ2xlIExMQwovLwovLyBMaWNlbnNlZCB1bmRlciB0aGUgQXBhY2hlIExpY2Vuc2UsIFZlcnNpb24gMi4wICh0aGUgIkxpY2Vuc2UiKTsKLy8geW91IG1heSBub3QgdXNlIHRoaXMgZmlsZSBleGNlcHQgaW4gY29tcGxpYW5jZSB3aXRoIHRoZSBMaWNlbnNlLgovLyBZb3UgbWF5IG9idGFpbiBhIGNvcHkgb2YgdGhlIExpY2Vuc2UgYXQKLy8KLy8gICAgICBodHRwOi8vd3d3LmFwYWNoZS5vcmcvbGljZW5zZXMvTElDRU5TRS0yLjAKLy8KLy8gVW5sZXNzIHJlcXVpcmVkIGJ5IGFwcGxpY2FibGUgbGF3IG9yIGFncmVlZCB0byBpbiB3cml0aW5nLCBzb2Z0d2FyZQovLyBkaXN0cmlidXRlZCB1bmRlciB0aGUgTGljZW5zZSBpcyBkaXN0cmlidXRlZCBvbiBhbiAiQVMgSVMiIEJBU0lTLAovLyBXSVRIT1VUIFdBUlJBTlRJRVMgT1IgQ09ORElUSU9OUyBPRiBBTlkgS0lORCwgZWl0aGVyIGV4cHJlc3Mgb3IgaW1wbGllZC4KLy8gU2VlIHRoZSBMaWNlbnNlIGZvciB0aGUgc3BlY2lmaWMgbGFuZ3VhZ2UgZ292ZXJuaW5nIHBlcm1pc3Npb25zIGFuZAovLyBsaW1pdGF0aW9ucyB1bmRlciB0aGUgTGljZW5zZS4KCi8qKgogKiBAZmlsZW92ZXJ2aWV3IEhlbHBlcnMgZm9yIGdvb2dsZS5jb2xhYiBQeXRob24gbW9kdWxlLgogKi8KKGZ1bmN0aW9uKHNjb3BlKSB7CmZ1bmN0aW9uIHNwYW4odGV4dCwgc3R5bGVBdHRyaWJ1dGVzID0ge30pIHsKICBjb25zdCBlbGVtZW50ID0gZG9jdW1lbnQuY3JlYXRlRWxlbWVudCgnc3BhbicpOwogIGVsZW1lbnQudGV4dENvbnRlbnQgPSB0ZXh0OwogIGZvciAoY29uc3Qga2V5IG9mIE9iamVjdC5rZXlzKHN0eWxlQXR0cmlidXRlcykpIHsKICAgIGVsZW1lbnQuc3R5bGVba2V5XSA9IHN0eWxlQXR0cmlidXRlc1trZXldOwogIH0KICByZXR1cm4gZWxlbWVudDsKfQoKLy8gTWF4IG51bWJlciBvZiBieXRlcyB3aGljaCB3aWxsIGJlIHVwbG9hZGVkIGF0IGEgdGltZS4KY29uc3QgTUFYX1BBWUxPQURfU0laRSA9IDEwMCAqIDEwMjQ7CgpmdW5jdGlvbiBfdXBsb2FkRmlsZXMoaW5wdXRJZCwgb3V0cHV0SWQpIHsKICBjb25zdCBzdGVwcyA9IHVwbG9hZEZpbGVzU3RlcChpbnB1dElkLCBvdXRwdXRJZCk7CiAgY29uc3Qgb3V0cHV0RWxlbWVudCA9IGRvY3VtZW50LmdldEVsZW1lbnRCeUlkKG91dHB1dElkKTsKICAvLyBDYWNoZSBzdGVwcyBvbiB0aGUgb3V0cHV0RWxlbWVudCB0byBtYWtlIGl0IGF2YWlsYWJsZSBmb3IgdGhlIG5leHQgY2FsbAogIC8vIHRvIHVwbG9hZEZpbGVzQ29udGludWUgZnJvbSBQeXRob24uCiAgb3V0cHV0RWxlbWVudC5zdGVwcyA9IHN0ZXBzOwoKICByZXR1cm4gX3VwbG9hZEZpbGVzQ29udGludWUob3V0cHV0SWQpOwp9CgovLyBUaGlzIGlzIHJvdWdobHkgYW4gYXN5bmMgZ2VuZXJhdG9yIChub3Qgc3VwcG9ydGVkIGluIHRoZSBicm93c2VyIHlldCksCi8vIHdoZXJlIHRoZXJlIGFyZSBtdWx0aXBsZSBhc3luY2hyb25vdXMgc3RlcHMgYW5kIHRoZSBQeXRob24gc2lkZSBpcyBnb2luZwovLyB0byBwb2xsIGZvciBjb21wbGV0aW9uIG9mIGVhY2ggc3RlcC4KLy8gVGhpcyB1c2VzIGEgUHJvbWlzZSB0byBibG9jayB0aGUgcHl0aG9uIHNpZGUgb24gY29tcGxldGlvbiBvZiBlYWNoIHN0ZXAsCi8vIHRoZW4gcGFzc2VzIHRoZSByZXN1bHQgb2YgdGhlIHByZXZpb3VzIHN0ZXAgYXMgdGhlIGlucHV0IHRvIHRoZSBuZXh0IHN0ZXAuCmZ1bmN0aW9uIF91cGxvYWRGaWxlc0NvbnRpbnVlKG91dHB1dElkKSB7CiAgY29uc3Qgb3V0cHV0RWxlbWVudCA9IGRvY3VtZW50LmdldEVsZW1lbnRCeUlkKG91dHB1dElkKTsKICBjb25zdCBzdGVwcyA9IG91dHB1dEVsZW1lbnQuc3RlcHM7CgogIGNvbnN0IG5leHQgPSBzdGVwcy5uZXh0KG91dHB1dEVsZW1lbnQubGFzdFByb21pc2VWYWx1ZSk7CiAgcmV0dXJuIFByb21pc2UucmVzb2x2ZShuZXh0LnZhbHVlLnByb21pc2UpLnRoZW4oKHZhbHVlKSA9PiB7CiAgICAvLyBDYWNoZSB0aGUgbGFzdCBwcm9taXNlIHZhbHVlIHRvIG1ha2UgaXQgYXZhaWxhYmxlIHRvIHRoZSBuZXh0CiAgICAvLyBzdGVwIG9mIHRoZSBnZW5lcmF0b3IuCiAgICBvdXRwdXRFbGVtZW50Lmxhc3RQcm9taXNlVmFsdWUgPSB2YWx1ZTsKICAgIHJldHVybiBuZXh0LnZhbHVlLnJlc3BvbnNlOwogIH0pOwp9CgovKioKICogR2VuZXJhdG9yIGZ1bmN0aW9uIHdoaWNoIGlzIGNhbGxlZCBiZXR3ZWVuIGVhY2ggYXN5bmMgc3RlcCBvZiB0aGUgdXBsb2FkCiAqIHByb2Nlc3MuCiAqIEBwYXJhbSB7c3RyaW5nfSBpbnB1dElkIEVsZW1lbnQgSUQgb2YgdGhlIGlucHV0IGZpbGUgcGlja2VyIGVsZW1lbnQuCiAqIEBwYXJhbSB7c3RyaW5nfSBvdXRwdXRJZCBFbGVtZW50IElEIG9mIHRoZSBvdXRwdXQgZGlzcGxheS4KICogQHJldHVybiB7IUl0ZXJhYmxlPCFPYmplY3Q+fSBJdGVyYWJsZSBvZiBuZXh0IHN0ZXBzLgogKi8KZnVuY3Rpb24qIHVwbG9hZEZpbGVzU3RlcChpbnB1dElkLCBvdXRwdXRJZCkgewogIGNvbnN0IGlucHV0RWxlbWVudCA9IGRvY3VtZW50LmdldEVsZW1lbnRCeUlkKGlucHV0SWQpOwogIGlucHV0RWxlbWVudC5kaXNhYmxlZCA9IGZhbHNlOwoKICBjb25zdCBvdXRwdXRFbGVtZW50ID0gZG9jdW1lbnQuZ2V0RWxlbWVudEJ5SWQob3V0cHV0SWQpOwogIG91dHB1dEVsZW1lbnQuaW5uZXJIVE1MID0gJyc7CgogIGNvbnN0IHBpY2tlZFByb21pc2UgPSBuZXcgUHJvbWlzZSgocmVzb2x2ZSkgPT4gewogICAgaW5wdXRFbGVtZW50LmFkZEV2ZW50TGlzdGVuZXIoJ2NoYW5nZScsIChlKSA9PiB7CiAgICAgIHJlc29sdmUoZS50YXJnZXQuZmlsZXMpOwogICAgfSk7CiAgfSk7CgogIGNvbnN0IGNhbmNlbCA9IGRvY3VtZW50LmNyZWF0ZUVsZW1lbnQoJ2J1dHRvbicpOwogIGlucHV0RWxlbWVudC5wYXJlbnRFbGVtZW50LmFwcGVuZENoaWxkKGNhbmNlbCk7CiAgY2FuY2VsLnRleHRDb250ZW50ID0gJ0NhbmNlbCB1cGxvYWQnOwogIGNvbnN0IGNhbmNlbFByb21pc2UgPSBuZXcgUHJvbWlzZSgocmVzb2x2ZSkgPT4gewogICAgY2FuY2VsLm9uY2xpY2sgPSAoKSA9PiB7CiAgICAgIHJlc29sdmUobnVsbCk7CiAgICB9OwogIH0pOwoKICAvLyBXYWl0IGZvciB0aGUgdXNlciB0byBwaWNrIHRoZSBmaWxlcy4KICBjb25zdCBmaWxlcyA9IHlpZWxkIHsKICAgIHByb21pc2U6IFByb21pc2UucmFjZShbcGlja2VkUHJvbWlzZSwgY2FuY2VsUHJvbWlzZV0pLAogICAgcmVzcG9uc2U6IHsKICAgICAgYWN0aW9uOiAnc3RhcnRpbmcnLAogICAgfQogIH07CgogIGNhbmNlbC5yZW1vdmUoKTsKCiAgLy8gRGlzYWJsZSB0aGUgaW5wdXQgZWxlbWVudCBzaW5jZSBmdXJ0aGVyIHBpY2tzIGFyZSBub3QgYWxsb3dlZC4KICBpbnB1dEVsZW1lbnQuZGlzYWJsZWQgPSB0cnVlOwoKICBpZiAoIWZpbGVzKSB7CiAgICByZXR1cm4gewogICAgICByZXNwb25zZTogewogICAgICAgIGFjdGlvbjogJ2NvbXBsZXRlJywKICAgICAgfQogICAgfTsKICB9CgogIGZvciAoY29uc3QgZmlsZSBvZiBmaWxlcykgewogICAgY29uc3QgbGkgPSBkb2N1bWVudC5jcmVhdGVFbGVtZW50KCdsaScpOwogICAgbGkuYXBwZW5kKHNwYW4oZmlsZS5uYW1lLCB7Zm9udFdlaWdodDogJ2JvbGQnfSkpOwogICAgbGkuYXBwZW5kKHNwYW4oCiAgICAgICAgYCgke2ZpbGUudHlwZSB8fCAnbi9hJ30pIC0gJHtmaWxlLnNpemV9IGJ5dGVzLCBgICsKICAgICAgICBgbGFzdCBtb2RpZmllZDogJHsKICAgICAgICAgICAgZmlsZS5sYXN0TW9kaWZpZWREYXRlID8gZmlsZS5sYXN0TW9kaWZpZWREYXRlLnRvTG9jYWxlRGF0ZVN0cmluZygpIDoKICAgICAgICAgICAgICAgICAgICAgICAgICAgICAgICAgICAgJ24vYSd9IC0gYCkpOwogICAgY29uc3QgcGVyY2VudCA9IHNwYW4oJzAlIGRvbmUnKTsKICAgIGxpLmFwcGVuZENoaWxkKHBlcmNlbnQpOwoKICAgIG91dHB1dEVsZW1lbnQuYXBwZW5kQ2hpbGQobGkpOwoKICAgIGNvbnN0IGZpbGVEYXRhUHJvbWlzZSA9IG5ldyBQcm9taXNlKChyZXNvbHZlKSA9PiB7CiAgICAgIGNvbnN0IHJlYWRlciA9IG5ldyBGaWxlUmVhZGVyKCk7CiAgICAgIHJlYWRlci5vbmxvYWQgPSAoZSkgPT4gewogICAgICAgIHJlc29sdmUoZS50YXJnZXQucmVzdWx0KTsKICAgICAgfTsKICAgICAgcmVhZGVyLnJlYWRBc0FycmF5QnVmZmVyKGZpbGUpOwogICAgfSk7CiAgICAvLyBXYWl0IGZvciB0aGUgZGF0YSB0byBiZSByZWFkeS4KICAgIGxldCBmaWxlRGF0YSA9IHlpZWxkIHsKICAgICAgcHJvbWlzZTogZmlsZURhdGFQcm9taXNlLAogICAgICByZXNwb25zZTogewogICAgICAgIGFjdGlvbjogJ2NvbnRpbnVlJywKICAgICAgfQogICAgfTsKCiAgICAvLyBVc2UgYSBjaHVua2VkIHNlbmRpbmcgdG8gYXZvaWQgbWVzc2FnZSBzaXplIGxpbWl0cy4gU2VlIGIvNjIxMTU2NjAuCiAgICBsZXQgcG9zaXRpb24gPSAwOwogICAgd2hpbGUgKHBvc2l0aW9uIDwgZmlsZURhdGEuYnl0ZUxlbmd0aCkgewogICAgICBjb25zdCBsZW5ndGggPSBNYXRoLm1pbihmaWxlRGF0YS5ieXRlTGVuZ3RoIC0gcG9zaXRpb24sIE1BWF9QQVlMT0FEX1NJWkUpOwogICAgICBjb25zdCBjaHVuayA9IG5ldyBVaW50OEFycmF5KGZpbGVEYXRhLCBwb3NpdGlvbiwgbGVuZ3RoKTsKICAgICAgcG9zaXRpb24gKz0gbGVuZ3RoOwoKICAgICAgY29uc3QgYmFzZTY0ID0gYnRvYShTdHJpbmcuZnJvbUNoYXJDb2RlLmFwcGx5KG51bGwsIGNodW5rKSk7CiAgICAgIHlpZWxkIHsKICAgICAgICByZXNwb25zZTogewogICAgICAgICAgYWN0aW9uOiAnYXBwZW5kJywKICAgICAgICAgIGZpbGU6IGZpbGUubmFtZSwKICAgICAgICAgIGRhdGE6IGJhc2U2NCwKICAgICAgICB9LAogICAgICB9OwogICAgICBwZXJjZW50LnRleHRDb250ZW50ID0KICAgICAgICAgIGAke01hdGgucm91bmQoKHBvc2l0aW9uIC8gZmlsZURhdGEuYnl0ZUxlbmd0aCkgKiAxMDApfSUgZG9uZWA7CiAgICB9CiAgfQoKICAvLyBBbGwgZG9uZS4KICB5aWVsZCB7CiAgICByZXNwb25zZTogewogICAgICBhY3Rpb246ICdjb21wbGV0ZScsCiAgICB9CiAgfTsKfQoKc2NvcGUuZ29vZ2xlID0gc2NvcGUuZ29vZ2xlIHx8IHt9OwpzY29wZS5nb29nbGUuY29sYWIgPSBzY29wZS5nb29nbGUuY29sYWIgfHwge307CnNjb3BlLmdvb2dsZS5jb2xhYi5fZmlsZXMgPSB7CiAgX3VwbG9hZEZpbGVzLAogIF91cGxvYWRGaWxlc0NvbnRpbnVlLAp9Owp9KShzZWxmKTsK",
              "ok": true,
              "headers": [
                [
                  "content-type",
                  "application/javascript"
                ]
              ],
              "status": 200,
              "status_text": ""
            }
          },
          "base_uri": "https://localhost:8080/",
          "height": 72
        },
        "id": "xHG14Jo9hdCe",
        "outputId": "1bdee6bb-8b2f-409c-975f-7ecad0ac01e0"
      },
      "source": [
        "from google.colab import files\n",
        "uploaded = files.upload()\n"
      ],
      "execution_count": 2,
      "outputs": [
        {
          "output_type": "display_data",
          "data": {
            "text/html": [
              "\n",
              "     <input type=\"file\" id=\"files-62df05d7-81a9-4eba-86e1-28233a508a53\" name=\"files[]\" multiple disabled\n",
              "        style=\"border:none\" />\n",
              "     <output id=\"result-62df05d7-81a9-4eba-86e1-28233a508a53\">\n",
              "      Upload widget is only available when the cell has been executed in the\n",
              "      current browser session. Please rerun this cell to enable.\n",
              "      </output>\n",
              "      <script src=\"/nbextensions/google.colab/files.js\"></script> "
            ],
            "text/plain": [
              "<IPython.core.display.HTML object>"
            ]
          },
          "metadata": {
            "tags": []
          }
        },
        {
          "output_type": "stream",
          "text": [
            "Saving games.csv to games (3).csv\n"
          ],
          "name": "stdout"
        }
      ]
    },
    {
      "cell_type": "code",
      "metadata": {
        "id": "lqhxQwDGh9No"
      },
      "source": [
        "import io"
      ],
      "execution_count": 3,
      "outputs": []
    },
    {
      "cell_type": "code",
      "metadata": {
        "id": "1c6c9d_Uj5_3"
      },
      "source": [
        "import seaborn as sns\n",
        "import matplotlib.pyplot as plt\n",
        "import numpy as np\n",
        "from scipy import stats as st"
      ],
      "execution_count": 4,
      "outputs": []
    },
    {
      "cell_type": "code",
      "metadata": {
        "id": "bcUy6vrZiVSl"
      },
      "source": [
        "df = pd.read_csv(io.BytesIO(uploaded['games.csv']))"
      ],
      "execution_count": 5,
      "outputs": []
    },
    {
      "cell_type": "code",
      "metadata": {
        "colab": {
          "base_uri": "https://localhost:8080/",
          "height": 419
        },
        "id": "lbjWlg2GrLFw",
        "outputId": "0ef6440c-f816-4ad6-a1fc-530245a6cba1"
      },
      "source": [
        "df"
      ],
      "execution_count": 6,
      "outputs": [
        {
          "output_type": "execute_result",
          "data": {
            "text/html": [
              "<div>\n",
              "<style scoped>\n",
              "    .dataframe tbody tr th:only-of-type {\n",
              "        vertical-align: middle;\n",
              "    }\n",
              "\n",
              "    .dataframe tbody tr th {\n",
              "        vertical-align: top;\n",
              "    }\n",
              "\n",
              "    .dataframe thead th {\n",
              "        text-align: right;\n",
              "    }\n",
              "</style>\n",
              "<table border=\"1\" class=\"dataframe\">\n",
              "  <thead>\n",
              "    <tr style=\"text-align: right;\">\n",
              "      <th></th>\n",
              "      <th>Name</th>\n",
              "      <th>Platform</th>\n",
              "      <th>Year_of_Release</th>\n",
              "      <th>Genre</th>\n",
              "      <th>NA_sales</th>\n",
              "      <th>EU_sales</th>\n",
              "      <th>JP_sales</th>\n",
              "      <th>Other_sales</th>\n",
              "      <th>Critic_Score</th>\n",
              "      <th>User_Score</th>\n",
              "      <th>Rating</th>\n",
              "    </tr>\n",
              "  </thead>\n",
              "  <tbody>\n",
              "    <tr>\n",
              "      <th>0</th>\n",
              "      <td>Wii Sports</td>\n",
              "      <td>Wii</td>\n",
              "      <td>2006.0</td>\n",
              "      <td>Sports</td>\n",
              "      <td>41.36</td>\n",
              "      <td>28.96</td>\n",
              "      <td>3.77</td>\n",
              "      <td>8.45</td>\n",
              "      <td>76.0</td>\n",
              "      <td>8</td>\n",
              "      <td>E</td>\n",
              "    </tr>\n",
              "    <tr>\n",
              "      <th>1</th>\n",
              "      <td>Super Mario Bros.</td>\n",
              "      <td>NES</td>\n",
              "      <td>1985.0</td>\n",
              "      <td>Platform</td>\n",
              "      <td>29.08</td>\n",
              "      <td>3.58</td>\n",
              "      <td>6.81</td>\n",
              "      <td>0.77</td>\n",
              "      <td>NaN</td>\n",
              "      <td>NaN</td>\n",
              "      <td>NaN</td>\n",
              "    </tr>\n",
              "    <tr>\n",
              "      <th>2</th>\n",
              "      <td>Mario Kart Wii</td>\n",
              "      <td>Wii</td>\n",
              "      <td>2008.0</td>\n",
              "      <td>Racing</td>\n",
              "      <td>15.68</td>\n",
              "      <td>12.76</td>\n",
              "      <td>3.79</td>\n",
              "      <td>3.29</td>\n",
              "      <td>82.0</td>\n",
              "      <td>8.3</td>\n",
              "      <td>E</td>\n",
              "    </tr>\n",
              "    <tr>\n",
              "      <th>3</th>\n",
              "      <td>Wii Sports Resort</td>\n",
              "      <td>Wii</td>\n",
              "      <td>2009.0</td>\n",
              "      <td>Sports</td>\n",
              "      <td>15.61</td>\n",
              "      <td>10.93</td>\n",
              "      <td>3.28</td>\n",
              "      <td>2.95</td>\n",
              "      <td>80.0</td>\n",
              "      <td>8</td>\n",
              "      <td>E</td>\n",
              "    </tr>\n",
              "    <tr>\n",
              "      <th>4</th>\n",
              "      <td>Pokemon Red/Pokemon Blue</td>\n",
              "      <td>GB</td>\n",
              "      <td>1996.0</td>\n",
              "      <td>Role-Playing</td>\n",
              "      <td>11.27</td>\n",
              "      <td>8.89</td>\n",
              "      <td>10.22</td>\n",
              "      <td>1.00</td>\n",
              "      <td>NaN</td>\n",
              "      <td>NaN</td>\n",
              "      <td>NaN</td>\n",
              "    </tr>\n",
              "    <tr>\n",
              "      <th>...</th>\n",
              "      <td>...</td>\n",
              "      <td>...</td>\n",
              "      <td>...</td>\n",
              "      <td>...</td>\n",
              "      <td>...</td>\n",
              "      <td>...</td>\n",
              "      <td>...</td>\n",
              "      <td>...</td>\n",
              "      <td>...</td>\n",
              "      <td>...</td>\n",
              "      <td>...</td>\n",
              "    </tr>\n",
              "    <tr>\n",
              "      <th>16710</th>\n",
              "      <td>Samurai Warriors: Sanada Maru</td>\n",
              "      <td>PS3</td>\n",
              "      <td>2016.0</td>\n",
              "      <td>Action</td>\n",
              "      <td>0.00</td>\n",
              "      <td>0.00</td>\n",
              "      <td>0.01</td>\n",
              "      <td>0.00</td>\n",
              "      <td>NaN</td>\n",
              "      <td>NaN</td>\n",
              "      <td>NaN</td>\n",
              "    </tr>\n",
              "    <tr>\n",
              "      <th>16711</th>\n",
              "      <td>LMA Manager 2007</td>\n",
              "      <td>X360</td>\n",
              "      <td>2006.0</td>\n",
              "      <td>Sports</td>\n",
              "      <td>0.00</td>\n",
              "      <td>0.01</td>\n",
              "      <td>0.00</td>\n",
              "      <td>0.00</td>\n",
              "      <td>NaN</td>\n",
              "      <td>NaN</td>\n",
              "      <td>NaN</td>\n",
              "    </tr>\n",
              "    <tr>\n",
              "      <th>16712</th>\n",
              "      <td>Haitaka no Psychedelica</td>\n",
              "      <td>PSV</td>\n",
              "      <td>2016.0</td>\n",
              "      <td>Adventure</td>\n",
              "      <td>0.00</td>\n",
              "      <td>0.00</td>\n",
              "      <td>0.01</td>\n",
              "      <td>0.00</td>\n",
              "      <td>NaN</td>\n",
              "      <td>NaN</td>\n",
              "      <td>NaN</td>\n",
              "    </tr>\n",
              "    <tr>\n",
              "      <th>16713</th>\n",
              "      <td>Spirits &amp; Spells</td>\n",
              "      <td>GBA</td>\n",
              "      <td>2003.0</td>\n",
              "      <td>Platform</td>\n",
              "      <td>0.01</td>\n",
              "      <td>0.00</td>\n",
              "      <td>0.00</td>\n",
              "      <td>0.00</td>\n",
              "      <td>NaN</td>\n",
              "      <td>NaN</td>\n",
              "      <td>NaN</td>\n",
              "    </tr>\n",
              "    <tr>\n",
              "      <th>16714</th>\n",
              "      <td>Winning Post 8 2016</td>\n",
              "      <td>PSV</td>\n",
              "      <td>2016.0</td>\n",
              "      <td>Simulation</td>\n",
              "      <td>0.00</td>\n",
              "      <td>0.00</td>\n",
              "      <td>0.01</td>\n",
              "      <td>0.00</td>\n",
              "      <td>NaN</td>\n",
              "      <td>NaN</td>\n",
              "      <td>NaN</td>\n",
              "    </tr>\n",
              "  </tbody>\n",
              "</table>\n",
              "<p>16715 rows × 11 columns</p>\n",
              "</div>"
            ],
            "text/plain": [
              "                                Name Platform  ...  User_Score Rating\n",
              "0                         Wii Sports      Wii  ...           8      E\n",
              "1                  Super Mario Bros.      NES  ...         NaN    NaN\n",
              "2                     Mario Kart Wii      Wii  ...         8.3      E\n",
              "3                  Wii Sports Resort      Wii  ...           8      E\n",
              "4           Pokemon Red/Pokemon Blue       GB  ...         NaN    NaN\n",
              "...                              ...      ...  ...         ...    ...\n",
              "16710  Samurai Warriors: Sanada Maru      PS3  ...         NaN    NaN\n",
              "16711               LMA Manager 2007     X360  ...         NaN    NaN\n",
              "16712        Haitaka no Psychedelica      PSV  ...         NaN    NaN\n",
              "16713               Spirits & Spells      GBA  ...         NaN    NaN\n",
              "16714            Winning Post 8 2016      PSV  ...         NaN    NaN\n",
              "\n",
              "[16715 rows x 11 columns]"
            ]
          },
          "metadata": {
            "tags": []
          },
          "execution_count": 6
        }
      ]
    },
    {
      "cell_type": "markdown",
      "metadata": {
        "id": "mFPT-h4efacF"
      },
      "source": [
        "Приводим названия столбцом к нижнему регистру методом rename"
      ]
    },
    {
      "cell_type": "markdown",
      "metadata": {
        "id": "7CwJK8GcoJod"
      },
      "source": [
        ""
      ]
    },
    {
      "cell_type": "code",
      "metadata": {
        "colab": {
          "base_uri": "https://localhost:8080/",
          "height": 453
        },
        "id": "6-6sr6JqoLkm",
        "outputId": "e53ebc62-a43f-4573-ef6f-98db52460773"
      },
      "source": [
        "df"
      ],
      "execution_count": 75,
      "outputs": [
        {
          "output_type": "execute_result",
          "data": {
            "text/html": [
              "<div>\n",
              "<style scoped>\n",
              "    .dataframe tbody tr th:only-of-type {\n",
              "        vertical-align: middle;\n",
              "    }\n",
              "\n",
              "    .dataframe tbody tr th {\n",
              "        vertical-align: top;\n",
              "    }\n",
              "\n",
              "    .dataframe thead th {\n",
              "        text-align: right;\n",
              "    }\n",
              "</style>\n",
              "<table border=\"1\" class=\"dataframe\">\n",
              "  <thead>\n",
              "    <tr style=\"text-align: right;\">\n",
              "      <th></th>\n",
              "      <th>name</th>\n",
              "      <th>platform</th>\n",
              "      <th>year_of_release</th>\n",
              "      <th>genre</th>\n",
              "      <th>na_sales</th>\n",
              "      <th>eu_sales</th>\n",
              "      <th>jp_sales</th>\n",
              "      <th>other_sales</th>\n",
              "      <th>crtitic_score</th>\n",
              "      <th>user_score</th>\n",
              "      <th>rating</th>\n",
              "      <th>total_sales</th>\n",
              "    </tr>\n",
              "  </thead>\n",
              "  <tbody>\n",
              "    <tr>\n",
              "      <th>0</th>\n",
              "      <td>Wii Sports</td>\n",
              "      <td>Wii</td>\n",
              "      <td>2006</td>\n",
              "      <td>Sports</td>\n",
              "      <td>41.36</td>\n",
              "      <td>28.96</td>\n",
              "      <td>3.77</td>\n",
              "      <td>8.45</td>\n",
              "      <td>76.0</td>\n",
              "      <td>8.0</td>\n",
              "      <td>E</td>\n",
              "      <td>82.54</td>\n",
              "    </tr>\n",
              "    <tr>\n",
              "      <th>1</th>\n",
              "      <td>Super Mario Bros.</td>\n",
              "      <td>NES</td>\n",
              "      <td>1985</td>\n",
              "      <td>Platform</td>\n",
              "      <td>29.08</td>\n",
              "      <td>3.58</td>\n",
              "      <td>6.81</td>\n",
              "      <td>0.77</td>\n",
              "      <td>NaN</td>\n",
              "      <td>NaN</td>\n",
              "      <td></td>\n",
              "      <td>40.24</td>\n",
              "    </tr>\n",
              "    <tr>\n",
              "      <th>2</th>\n",
              "      <td>Mario Kart Wii</td>\n",
              "      <td>Wii</td>\n",
              "      <td>2008</td>\n",
              "      <td>Racing</td>\n",
              "      <td>15.68</td>\n",
              "      <td>12.76</td>\n",
              "      <td>3.79</td>\n",
              "      <td>3.29</td>\n",
              "      <td>82.0</td>\n",
              "      <td>8.3</td>\n",
              "      <td>E</td>\n",
              "      <td>35.52</td>\n",
              "    </tr>\n",
              "    <tr>\n",
              "      <th>3</th>\n",
              "      <td>Wii Sports Resort</td>\n",
              "      <td>Wii</td>\n",
              "      <td>2009</td>\n",
              "      <td>Sports</td>\n",
              "      <td>15.61</td>\n",
              "      <td>10.93</td>\n",
              "      <td>3.28</td>\n",
              "      <td>2.95</td>\n",
              "      <td>80.0</td>\n",
              "      <td>8.0</td>\n",
              "      <td>E</td>\n",
              "      <td>32.77</td>\n",
              "    </tr>\n",
              "    <tr>\n",
              "      <th>4</th>\n",
              "      <td>Pokemon Red/Pokemon Blue</td>\n",
              "      <td>GB</td>\n",
              "      <td>1996</td>\n",
              "      <td>Role-Playing</td>\n",
              "      <td>11.27</td>\n",
              "      <td>8.89</td>\n",
              "      <td>10.22</td>\n",
              "      <td>1.00</td>\n",
              "      <td>NaN</td>\n",
              "      <td>NaN</td>\n",
              "      <td></td>\n",
              "      <td>31.38</td>\n",
              "    </tr>\n",
              "    <tr>\n",
              "      <th>...</th>\n",
              "      <td>...</td>\n",
              "      <td>...</td>\n",
              "      <td>...</td>\n",
              "      <td>...</td>\n",
              "      <td>...</td>\n",
              "      <td>...</td>\n",
              "      <td>...</td>\n",
              "      <td>...</td>\n",
              "      <td>...</td>\n",
              "      <td>...</td>\n",
              "      <td>...</td>\n",
              "      <td>...</td>\n",
              "    </tr>\n",
              "    <tr>\n",
              "      <th>16710</th>\n",
              "      <td>Samurai Warriors: Sanada Maru</td>\n",
              "      <td>PS3</td>\n",
              "      <td>2016</td>\n",
              "      <td>Action</td>\n",
              "      <td>0.00</td>\n",
              "      <td>0.00</td>\n",
              "      <td>0.01</td>\n",
              "      <td>0.00</td>\n",
              "      <td>NaN</td>\n",
              "      <td>NaN</td>\n",
              "      <td></td>\n",
              "      <td>0.01</td>\n",
              "    </tr>\n",
              "    <tr>\n",
              "      <th>16711</th>\n",
              "      <td>LMA Manager 2007</td>\n",
              "      <td>X360</td>\n",
              "      <td>2006</td>\n",
              "      <td>Sports</td>\n",
              "      <td>0.00</td>\n",
              "      <td>0.01</td>\n",
              "      <td>0.00</td>\n",
              "      <td>0.00</td>\n",
              "      <td>NaN</td>\n",
              "      <td>NaN</td>\n",
              "      <td></td>\n",
              "      <td>0.01</td>\n",
              "    </tr>\n",
              "    <tr>\n",
              "      <th>16712</th>\n",
              "      <td>Haitaka no Psychedelica</td>\n",
              "      <td>PSV</td>\n",
              "      <td>2016</td>\n",
              "      <td>Adventure</td>\n",
              "      <td>0.00</td>\n",
              "      <td>0.00</td>\n",
              "      <td>0.01</td>\n",
              "      <td>0.00</td>\n",
              "      <td>NaN</td>\n",
              "      <td>NaN</td>\n",
              "      <td></td>\n",
              "      <td>0.01</td>\n",
              "    </tr>\n",
              "    <tr>\n",
              "      <th>16713</th>\n",
              "      <td>Spirits &amp; Spells</td>\n",
              "      <td>GBA</td>\n",
              "      <td>2003</td>\n",
              "      <td>Platform</td>\n",
              "      <td>0.01</td>\n",
              "      <td>0.00</td>\n",
              "      <td>0.00</td>\n",
              "      <td>0.00</td>\n",
              "      <td>NaN</td>\n",
              "      <td>NaN</td>\n",
              "      <td></td>\n",
              "      <td>0.01</td>\n",
              "    </tr>\n",
              "    <tr>\n",
              "      <th>16714</th>\n",
              "      <td>Winning Post 8 2016</td>\n",
              "      <td>PSV</td>\n",
              "      <td>2016</td>\n",
              "      <td>Simulation</td>\n",
              "      <td>0.00</td>\n",
              "      <td>0.00</td>\n",
              "      <td>0.01</td>\n",
              "      <td>0.00</td>\n",
              "      <td>NaN</td>\n",
              "      <td>NaN</td>\n",
              "      <td></td>\n",
              "      <td>0.01</td>\n",
              "    </tr>\n",
              "  </tbody>\n",
              "</table>\n",
              "<p>16713 rows × 12 columns</p>\n",
              "</div>"
            ],
            "text/plain": [
              "                                name platform  ...  rating total_sales\n",
              "0                         Wii Sports      Wii  ...       E       82.54\n",
              "1                  Super Mario Bros.      NES  ...               40.24\n",
              "2                     Mario Kart Wii      Wii  ...       E       35.52\n",
              "3                  Wii Sports Resort      Wii  ...       E       32.77\n",
              "4           Pokemon Red/Pokemon Blue       GB  ...               31.38\n",
              "...                              ...      ...  ...     ...         ...\n",
              "16710  Samurai Warriors: Sanada Maru      PS3  ...                0.01\n",
              "16711               LMA Manager 2007     X360  ...                0.01\n",
              "16712        Haitaka no Psychedelica      PSV  ...                0.01\n",
              "16713               Spirits & Spells      GBA  ...                0.01\n",
              "16714            Winning Post 8 2016      PSV  ...                0.01\n",
              "\n",
              "[16713 rows x 12 columns]"
            ]
          },
          "metadata": {
            "tags": []
          },
          "execution_count": 75
        }
      ]
    },
    {
      "cell_type": "code",
      "metadata": {
        "id": "QQ8Pj1OgfLw5"
      },
      "source": [
        "df = df.rename(columns={\"Name\": \"name\", \"Platform\": \"platform\", 'Year_of_Release':'year_of_release',\n",
        "                   'Genre':'genre','NA_sales':'na_sales',\n",
        "                   'EU_sales':'eu_sales','JP_sales':'jp_sales',\n",
        "                   'Other_sales':'other_sales','Critic_Score':'crtitic_score','User_Score':'user_score','Rating':'rating'})"
      ],
      "execution_count": 7,
      "outputs": []
    },
    {
      "cell_type": "code",
      "metadata": {
        "colab": {
          "base_uri": "https://localhost:8080/",
          "height": 419
        },
        "id": "RtBXcmjhrPjl",
        "outputId": "8926789d-25a3-43fa-ac18-8c2205cff071"
      },
      "source": [
        "df"
      ],
      "execution_count": 8,
      "outputs": [
        {
          "output_type": "execute_result",
          "data": {
            "text/html": [
              "<div>\n",
              "<style scoped>\n",
              "    .dataframe tbody tr th:only-of-type {\n",
              "        vertical-align: middle;\n",
              "    }\n",
              "\n",
              "    .dataframe tbody tr th {\n",
              "        vertical-align: top;\n",
              "    }\n",
              "\n",
              "    .dataframe thead th {\n",
              "        text-align: right;\n",
              "    }\n",
              "</style>\n",
              "<table border=\"1\" class=\"dataframe\">\n",
              "  <thead>\n",
              "    <tr style=\"text-align: right;\">\n",
              "      <th></th>\n",
              "      <th>name</th>\n",
              "      <th>platform</th>\n",
              "      <th>year_of_release</th>\n",
              "      <th>genre</th>\n",
              "      <th>na_sales</th>\n",
              "      <th>eu_sales</th>\n",
              "      <th>jp_sales</th>\n",
              "      <th>other_sales</th>\n",
              "      <th>crtitic_score</th>\n",
              "      <th>user_score</th>\n",
              "      <th>rating</th>\n",
              "    </tr>\n",
              "  </thead>\n",
              "  <tbody>\n",
              "    <tr>\n",
              "      <th>0</th>\n",
              "      <td>Wii Sports</td>\n",
              "      <td>Wii</td>\n",
              "      <td>2006.0</td>\n",
              "      <td>Sports</td>\n",
              "      <td>41.36</td>\n",
              "      <td>28.96</td>\n",
              "      <td>3.77</td>\n",
              "      <td>8.45</td>\n",
              "      <td>76.0</td>\n",
              "      <td>8</td>\n",
              "      <td>E</td>\n",
              "    </tr>\n",
              "    <tr>\n",
              "      <th>1</th>\n",
              "      <td>Super Mario Bros.</td>\n",
              "      <td>NES</td>\n",
              "      <td>1985.0</td>\n",
              "      <td>Platform</td>\n",
              "      <td>29.08</td>\n",
              "      <td>3.58</td>\n",
              "      <td>6.81</td>\n",
              "      <td>0.77</td>\n",
              "      <td>NaN</td>\n",
              "      <td>NaN</td>\n",
              "      <td>NaN</td>\n",
              "    </tr>\n",
              "    <tr>\n",
              "      <th>2</th>\n",
              "      <td>Mario Kart Wii</td>\n",
              "      <td>Wii</td>\n",
              "      <td>2008.0</td>\n",
              "      <td>Racing</td>\n",
              "      <td>15.68</td>\n",
              "      <td>12.76</td>\n",
              "      <td>3.79</td>\n",
              "      <td>3.29</td>\n",
              "      <td>82.0</td>\n",
              "      <td>8.3</td>\n",
              "      <td>E</td>\n",
              "    </tr>\n",
              "    <tr>\n",
              "      <th>3</th>\n",
              "      <td>Wii Sports Resort</td>\n",
              "      <td>Wii</td>\n",
              "      <td>2009.0</td>\n",
              "      <td>Sports</td>\n",
              "      <td>15.61</td>\n",
              "      <td>10.93</td>\n",
              "      <td>3.28</td>\n",
              "      <td>2.95</td>\n",
              "      <td>80.0</td>\n",
              "      <td>8</td>\n",
              "      <td>E</td>\n",
              "    </tr>\n",
              "    <tr>\n",
              "      <th>4</th>\n",
              "      <td>Pokemon Red/Pokemon Blue</td>\n",
              "      <td>GB</td>\n",
              "      <td>1996.0</td>\n",
              "      <td>Role-Playing</td>\n",
              "      <td>11.27</td>\n",
              "      <td>8.89</td>\n",
              "      <td>10.22</td>\n",
              "      <td>1.00</td>\n",
              "      <td>NaN</td>\n",
              "      <td>NaN</td>\n",
              "      <td>NaN</td>\n",
              "    </tr>\n",
              "    <tr>\n",
              "      <th>...</th>\n",
              "      <td>...</td>\n",
              "      <td>...</td>\n",
              "      <td>...</td>\n",
              "      <td>...</td>\n",
              "      <td>...</td>\n",
              "      <td>...</td>\n",
              "      <td>...</td>\n",
              "      <td>...</td>\n",
              "      <td>...</td>\n",
              "      <td>...</td>\n",
              "      <td>...</td>\n",
              "    </tr>\n",
              "    <tr>\n",
              "      <th>16710</th>\n",
              "      <td>Samurai Warriors: Sanada Maru</td>\n",
              "      <td>PS3</td>\n",
              "      <td>2016.0</td>\n",
              "      <td>Action</td>\n",
              "      <td>0.00</td>\n",
              "      <td>0.00</td>\n",
              "      <td>0.01</td>\n",
              "      <td>0.00</td>\n",
              "      <td>NaN</td>\n",
              "      <td>NaN</td>\n",
              "      <td>NaN</td>\n",
              "    </tr>\n",
              "    <tr>\n",
              "      <th>16711</th>\n",
              "      <td>LMA Manager 2007</td>\n",
              "      <td>X360</td>\n",
              "      <td>2006.0</td>\n",
              "      <td>Sports</td>\n",
              "      <td>0.00</td>\n",
              "      <td>0.01</td>\n",
              "      <td>0.00</td>\n",
              "      <td>0.00</td>\n",
              "      <td>NaN</td>\n",
              "      <td>NaN</td>\n",
              "      <td>NaN</td>\n",
              "    </tr>\n",
              "    <tr>\n",
              "      <th>16712</th>\n",
              "      <td>Haitaka no Psychedelica</td>\n",
              "      <td>PSV</td>\n",
              "      <td>2016.0</td>\n",
              "      <td>Adventure</td>\n",
              "      <td>0.00</td>\n",
              "      <td>0.00</td>\n",
              "      <td>0.01</td>\n",
              "      <td>0.00</td>\n",
              "      <td>NaN</td>\n",
              "      <td>NaN</td>\n",
              "      <td>NaN</td>\n",
              "    </tr>\n",
              "    <tr>\n",
              "      <th>16713</th>\n",
              "      <td>Spirits &amp; Spells</td>\n",
              "      <td>GBA</td>\n",
              "      <td>2003.0</td>\n",
              "      <td>Platform</td>\n",
              "      <td>0.01</td>\n",
              "      <td>0.00</td>\n",
              "      <td>0.00</td>\n",
              "      <td>0.00</td>\n",
              "      <td>NaN</td>\n",
              "      <td>NaN</td>\n",
              "      <td>NaN</td>\n",
              "    </tr>\n",
              "    <tr>\n",
              "      <th>16714</th>\n",
              "      <td>Winning Post 8 2016</td>\n",
              "      <td>PSV</td>\n",
              "      <td>2016.0</td>\n",
              "      <td>Simulation</td>\n",
              "      <td>0.00</td>\n",
              "      <td>0.00</td>\n",
              "      <td>0.01</td>\n",
              "      <td>0.00</td>\n",
              "      <td>NaN</td>\n",
              "      <td>NaN</td>\n",
              "      <td>NaN</td>\n",
              "    </tr>\n",
              "  </tbody>\n",
              "</table>\n",
              "<p>16715 rows × 11 columns</p>\n",
              "</div>"
            ],
            "text/plain": [
              "                                name platform  ...  user_score rating\n",
              "0                         Wii Sports      Wii  ...           8      E\n",
              "1                  Super Mario Bros.      NES  ...         NaN    NaN\n",
              "2                     Mario Kart Wii      Wii  ...         8.3      E\n",
              "3                  Wii Sports Resort      Wii  ...           8      E\n",
              "4           Pokemon Red/Pokemon Blue       GB  ...         NaN    NaN\n",
              "...                              ...      ...  ...         ...    ...\n",
              "16710  Samurai Warriors: Sanada Maru      PS3  ...         NaN    NaN\n",
              "16711               LMA Manager 2007     X360  ...         NaN    NaN\n",
              "16712        Haitaka no Psychedelica      PSV  ...         NaN    NaN\n",
              "16713               Spirits & Spells      GBA  ...         NaN    NaN\n",
              "16714            Winning Post 8 2016      PSV  ...         NaN    NaN\n",
              "\n",
              "[16715 rows x 11 columns]"
            ]
          },
          "metadata": {
            "tags": []
          },
          "execution_count": 8
        }
      ]
    },
    {
      "cell_type": "code",
      "metadata": {
        "colab": {
          "base_uri": "https://localhost:8080/"
        },
        "id": "eniNmbG2rWhD",
        "outputId": "341af8bf-40b2-492c-8d09-e63be25f922a"
      },
      "source": [
        "df.dtypes\n"
      ],
      "execution_count": 9,
      "outputs": [
        {
          "output_type": "execute_result",
          "data": {
            "text/plain": [
              "name                object\n",
              "platform            object\n",
              "year_of_release    float64\n",
              "genre               object\n",
              "na_sales           float64\n",
              "eu_sales           float64\n",
              "jp_sales           float64\n",
              "other_sales        float64\n",
              "crtitic_score      float64\n",
              "user_score          object\n",
              "rating              object\n",
              "dtype: object"
            ]
          },
          "metadata": {
            "tags": []
          },
          "execution_count": 9
        }
      ]
    },
    {
      "cell_type": "code",
      "metadata": {
        "id": "kN9M-VRwZfBs"
      },
      "source": [
        "df['user_score'] = pd.to_numeric(df['user_score'],errors='coerce')\n",
        "\n",
        "# Тут я изменяю тип данных в столбце user_score на float64, так как изначально Pandas прочел его как object\n"
      ],
      "execution_count": 10,
      "outputs": []
    },
    {
      "cell_type": "code",
      "metadata": {
        "id": "CKAiKqheafJL"
      },
      "source": [
        "df.dropna(subset = ['name'], inplace = True)\n",
        "\n",
        "# В столбце 'name' 2 пропущенных значения, это 0.011967% от всего датафрейма - очень малое,\n",
        "# так что можем себе позволить удалить эти строки, сильно не повлияют на общую картину.\n",
        "# В столбцах 'platform','genre','na_sales', 'eu_sales', 'jp_sales', 'other_sales' нет пропущенных значений,\n",
        "# что может не радовать\n",
        "\n",
        "# В столбце 'year_of_release' 269 пропущенных значений NaN, это 1.6% процент от общего датафрейма, сразу их удалять нельзя.\n"
      ],
      "execution_count": 11,
      "outputs": []
    },
    {
      "cell_type": "code",
      "metadata": {
        "id": "_q7ab649afRx"
      },
      "source": [
        "df['year_of_release'] = df['year_of_release'].astype('Int64')\n",
        "\n",
        "# В столбце 'crtitic_score' целых 8576 пропущенных значений NaN, больше половины даты пропущены ибо их просто нет,\n",
        "# удалять конечно всё не будем - потеряем более 50 процента полезной информации.\n",
        "# Причииной ошибка, считаю, не все игры удается оценивать критикам, это все - неслучайные пропуски.\n"
      ],
      "execution_count": 12,
      "outputs": []
    },
    {
      "cell_type": "code",
      "metadata": {
        "id": "RAHUqNicafZZ"
      },
      "source": [
        "df['rating'] = df['rating'].fillna(value = '')\n",
        "\n",
        "# Рейтинг могут получать не все игры - их слишком много(аналогия с ситуацией 'critic_score'), и возможно не все достойны рейтинга.\n",
        "# Этот столбец - наша качественная переменная, и пропуски в них скорее неслучайны - поэтому лучше их заменить пустой строкой.\n"
      ],
      "execution_count": 12,
      "outputs": []
    },
    {
      "cell_type": "code",
      "metadata": {
        "colab": {
          "base_uri": "https://localhost:8080/",
          "height": 419
        },
        "id": "W0jVlPHtsLqJ",
        "outputId": "bcb74ac0-2682-4015-e1f7-378bcb2a0f55"
      },
      "source": [
        "df"
      ],
      "execution_count": 13,
      "outputs": [
        {
          "output_type": "execute_result",
          "data": {
            "text/html": [
              "<div>\n",
              "<style scoped>\n",
              "    .dataframe tbody tr th:only-of-type {\n",
              "        vertical-align: middle;\n",
              "    }\n",
              "\n",
              "    .dataframe tbody tr th {\n",
              "        vertical-align: top;\n",
              "    }\n",
              "\n",
              "    .dataframe thead th {\n",
              "        text-align: right;\n",
              "    }\n",
              "</style>\n",
              "<table border=\"1\" class=\"dataframe\">\n",
              "  <thead>\n",
              "    <tr style=\"text-align: right;\">\n",
              "      <th></th>\n",
              "      <th>name</th>\n",
              "      <th>platform</th>\n",
              "      <th>year_of_release</th>\n",
              "      <th>genre</th>\n",
              "      <th>na_sales</th>\n",
              "      <th>eu_sales</th>\n",
              "      <th>jp_sales</th>\n",
              "      <th>other_sales</th>\n",
              "      <th>crtitic_score</th>\n",
              "      <th>user_score</th>\n",
              "      <th>rating</th>\n",
              "    </tr>\n",
              "  </thead>\n",
              "  <tbody>\n",
              "    <tr>\n",
              "      <th>0</th>\n",
              "      <td>Wii Sports</td>\n",
              "      <td>Wii</td>\n",
              "      <td>2006.0</td>\n",
              "      <td>Sports</td>\n",
              "      <td>41.36</td>\n",
              "      <td>28.96</td>\n",
              "      <td>3.77</td>\n",
              "      <td>8.45</td>\n",
              "      <td>76.0</td>\n",
              "      <td>8.0</td>\n",
              "      <td>E</td>\n",
              "    </tr>\n",
              "    <tr>\n",
              "      <th>1</th>\n",
              "      <td>Super Mario Bros.</td>\n",
              "      <td>NES</td>\n",
              "      <td>1985.0</td>\n",
              "      <td>Platform</td>\n",
              "      <td>29.08</td>\n",
              "      <td>3.58</td>\n",
              "      <td>6.81</td>\n",
              "      <td>0.77</td>\n",
              "      <td>NaN</td>\n",
              "      <td>NaN</td>\n",
              "      <td></td>\n",
              "    </tr>\n",
              "    <tr>\n",
              "      <th>2</th>\n",
              "      <td>Mario Kart Wii</td>\n",
              "      <td>Wii</td>\n",
              "      <td>2008.0</td>\n",
              "      <td>Racing</td>\n",
              "      <td>15.68</td>\n",
              "      <td>12.76</td>\n",
              "      <td>3.79</td>\n",
              "      <td>3.29</td>\n",
              "      <td>82.0</td>\n",
              "      <td>8.3</td>\n",
              "      <td>E</td>\n",
              "    </tr>\n",
              "    <tr>\n",
              "      <th>3</th>\n",
              "      <td>Wii Sports Resort</td>\n",
              "      <td>Wii</td>\n",
              "      <td>2009.0</td>\n",
              "      <td>Sports</td>\n",
              "      <td>15.61</td>\n",
              "      <td>10.93</td>\n",
              "      <td>3.28</td>\n",
              "      <td>2.95</td>\n",
              "      <td>80.0</td>\n",
              "      <td>8.0</td>\n",
              "      <td>E</td>\n",
              "    </tr>\n",
              "    <tr>\n",
              "      <th>4</th>\n",
              "      <td>Pokemon Red/Pokemon Blue</td>\n",
              "      <td>GB</td>\n",
              "      <td>1996.0</td>\n",
              "      <td>Role-Playing</td>\n",
              "      <td>11.27</td>\n",
              "      <td>8.89</td>\n",
              "      <td>10.22</td>\n",
              "      <td>1.00</td>\n",
              "      <td>NaN</td>\n",
              "      <td>NaN</td>\n",
              "      <td></td>\n",
              "    </tr>\n",
              "    <tr>\n",
              "      <th>...</th>\n",
              "      <td>...</td>\n",
              "      <td>...</td>\n",
              "      <td>...</td>\n",
              "      <td>...</td>\n",
              "      <td>...</td>\n",
              "      <td>...</td>\n",
              "      <td>...</td>\n",
              "      <td>...</td>\n",
              "      <td>...</td>\n",
              "      <td>...</td>\n",
              "      <td>...</td>\n",
              "    </tr>\n",
              "    <tr>\n",
              "      <th>16710</th>\n",
              "      <td>Samurai Warriors: Sanada Maru</td>\n",
              "      <td>PS3</td>\n",
              "      <td>2016.0</td>\n",
              "      <td>Action</td>\n",
              "      <td>0.00</td>\n",
              "      <td>0.00</td>\n",
              "      <td>0.01</td>\n",
              "      <td>0.00</td>\n",
              "      <td>NaN</td>\n",
              "      <td>NaN</td>\n",
              "      <td></td>\n",
              "    </tr>\n",
              "    <tr>\n",
              "      <th>16711</th>\n",
              "      <td>LMA Manager 2007</td>\n",
              "      <td>X360</td>\n",
              "      <td>2006.0</td>\n",
              "      <td>Sports</td>\n",
              "      <td>0.00</td>\n",
              "      <td>0.01</td>\n",
              "      <td>0.00</td>\n",
              "      <td>0.00</td>\n",
              "      <td>NaN</td>\n",
              "      <td>NaN</td>\n",
              "      <td></td>\n",
              "    </tr>\n",
              "    <tr>\n",
              "      <th>16712</th>\n",
              "      <td>Haitaka no Psychedelica</td>\n",
              "      <td>PSV</td>\n",
              "      <td>2016.0</td>\n",
              "      <td>Adventure</td>\n",
              "      <td>0.00</td>\n",
              "      <td>0.00</td>\n",
              "      <td>0.01</td>\n",
              "      <td>0.00</td>\n",
              "      <td>NaN</td>\n",
              "      <td>NaN</td>\n",
              "      <td></td>\n",
              "    </tr>\n",
              "    <tr>\n",
              "      <th>16713</th>\n",
              "      <td>Spirits &amp; Spells</td>\n",
              "      <td>GBA</td>\n",
              "      <td>2003.0</td>\n",
              "      <td>Platform</td>\n",
              "      <td>0.01</td>\n",
              "      <td>0.00</td>\n",
              "      <td>0.00</td>\n",
              "      <td>0.00</td>\n",
              "      <td>NaN</td>\n",
              "      <td>NaN</td>\n",
              "      <td></td>\n",
              "    </tr>\n",
              "    <tr>\n",
              "      <th>16714</th>\n",
              "      <td>Winning Post 8 2016</td>\n",
              "      <td>PSV</td>\n",
              "      <td>2016.0</td>\n",
              "      <td>Simulation</td>\n",
              "      <td>0.00</td>\n",
              "      <td>0.00</td>\n",
              "      <td>0.01</td>\n",
              "      <td>0.00</td>\n",
              "      <td>NaN</td>\n",
              "      <td>NaN</td>\n",
              "      <td></td>\n",
              "    </tr>\n",
              "  </tbody>\n",
              "</table>\n",
              "<p>16715 rows × 11 columns</p>\n",
              "</div>"
            ],
            "text/plain": [
              "                                name platform  ...  user_score rating\n",
              "0                         Wii Sports      Wii  ...         8.0      E\n",
              "1                  Super Mario Bros.      NES  ...         NaN       \n",
              "2                     Mario Kart Wii      Wii  ...         8.3      E\n",
              "3                  Wii Sports Resort      Wii  ...         8.0      E\n",
              "4           Pokemon Red/Pokemon Blue       GB  ...         NaN       \n",
              "...                              ...      ...  ...         ...    ...\n",
              "16710  Samurai Warriors: Sanada Maru      PS3  ...         NaN       \n",
              "16711               LMA Manager 2007     X360  ...         NaN       \n",
              "16712        Haitaka no Psychedelica      PSV  ...         NaN       \n",
              "16713               Spirits & Spells      GBA  ...         NaN       \n",
              "16714            Winning Post 8 2016      PSV  ...         NaN       \n",
              "\n",
              "[16715 rows x 11 columns]"
            ]
          },
          "metadata": {
            "tags": []
          },
          "execution_count": 13
        }
      ]
    },
    {
      "cell_type": "code",
      "metadata": {
        "id": "xS8rRcdPafcI"
      },
      "source": [
        "df['total_sales'] = df['na_sales'] + df['eu_sales'] + df['jp_sales'] + df['other_sales']\n",
        "\n",
        "# Находим суммарные продажи во всех регионах\n",
        "\n",
        "# Ошибки в данных устранены. Данные подготовлены к дальнейшему анализу.\n",
        "\n",
        "\n",
        "# Еще что стоит упомянуть - я по крайней мере не нашел дубликатов в этом датафрейме.\n",
        "# Возвращаются нули, данные пригодны для исследования.\n"
      ],
      "execution_count": 14,
      "outputs": []
    },
    {
      "cell_type": "code",
      "metadata": {
        "colab": {
          "base_uri": "https://localhost:8080/",
          "height": 453
        },
        "id": "vsvIM2CQtJ1I",
        "outputId": "6827a9c9-6bbc-4b1f-9c57-9356da6092de"
      },
      "source": [
        "df"
      ],
      "execution_count": 15,
      "outputs": [
        {
          "output_type": "execute_result",
          "data": {
            "text/html": [
              "<div>\n",
              "<style scoped>\n",
              "    .dataframe tbody tr th:only-of-type {\n",
              "        vertical-align: middle;\n",
              "    }\n",
              "\n",
              "    .dataframe tbody tr th {\n",
              "        vertical-align: top;\n",
              "    }\n",
              "\n",
              "    .dataframe thead th {\n",
              "        text-align: right;\n",
              "    }\n",
              "</style>\n",
              "<table border=\"1\" class=\"dataframe\">\n",
              "  <thead>\n",
              "    <tr style=\"text-align: right;\">\n",
              "      <th></th>\n",
              "      <th>name</th>\n",
              "      <th>platform</th>\n",
              "      <th>year_of_release</th>\n",
              "      <th>genre</th>\n",
              "      <th>na_sales</th>\n",
              "      <th>eu_sales</th>\n",
              "      <th>jp_sales</th>\n",
              "      <th>other_sales</th>\n",
              "      <th>crtitic_score</th>\n",
              "      <th>user_score</th>\n",
              "      <th>rating</th>\n",
              "      <th>total_sales</th>\n",
              "    </tr>\n",
              "  </thead>\n",
              "  <tbody>\n",
              "    <tr>\n",
              "      <th>0</th>\n",
              "      <td>Wii Sports</td>\n",
              "      <td>Wii</td>\n",
              "      <td>2006.0</td>\n",
              "      <td>Sports</td>\n",
              "      <td>41.36</td>\n",
              "      <td>28.96</td>\n",
              "      <td>3.77</td>\n",
              "      <td>8.45</td>\n",
              "      <td>76.0</td>\n",
              "      <td>8.0</td>\n",
              "      <td>E</td>\n",
              "      <td>82.54</td>\n",
              "    </tr>\n",
              "    <tr>\n",
              "      <th>1</th>\n",
              "      <td>Super Mario Bros.</td>\n",
              "      <td>NES</td>\n",
              "      <td>1985.0</td>\n",
              "      <td>Platform</td>\n",
              "      <td>29.08</td>\n",
              "      <td>3.58</td>\n",
              "      <td>6.81</td>\n",
              "      <td>0.77</td>\n",
              "      <td>NaN</td>\n",
              "      <td>NaN</td>\n",
              "      <td></td>\n",
              "      <td>40.24</td>\n",
              "    </tr>\n",
              "    <tr>\n",
              "      <th>2</th>\n",
              "      <td>Mario Kart Wii</td>\n",
              "      <td>Wii</td>\n",
              "      <td>2008.0</td>\n",
              "      <td>Racing</td>\n",
              "      <td>15.68</td>\n",
              "      <td>12.76</td>\n",
              "      <td>3.79</td>\n",
              "      <td>3.29</td>\n",
              "      <td>82.0</td>\n",
              "      <td>8.3</td>\n",
              "      <td>E</td>\n",
              "      <td>35.52</td>\n",
              "    </tr>\n",
              "    <tr>\n",
              "      <th>3</th>\n",
              "      <td>Wii Sports Resort</td>\n",
              "      <td>Wii</td>\n",
              "      <td>2009.0</td>\n",
              "      <td>Sports</td>\n",
              "      <td>15.61</td>\n",
              "      <td>10.93</td>\n",
              "      <td>3.28</td>\n",
              "      <td>2.95</td>\n",
              "      <td>80.0</td>\n",
              "      <td>8.0</td>\n",
              "      <td>E</td>\n",
              "      <td>32.77</td>\n",
              "    </tr>\n",
              "    <tr>\n",
              "      <th>4</th>\n",
              "      <td>Pokemon Red/Pokemon Blue</td>\n",
              "      <td>GB</td>\n",
              "      <td>1996.0</td>\n",
              "      <td>Role-Playing</td>\n",
              "      <td>11.27</td>\n",
              "      <td>8.89</td>\n",
              "      <td>10.22</td>\n",
              "      <td>1.00</td>\n",
              "      <td>NaN</td>\n",
              "      <td>NaN</td>\n",
              "      <td></td>\n",
              "      <td>31.38</td>\n",
              "    </tr>\n",
              "    <tr>\n",
              "      <th>...</th>\n",
              "      <td>...</td>\n",
              "      <td>...</td>\n",
              "      <td>...</td>\n",
              "      <td>...</td>\n",
              "      <td>...</td>\n",
              "      <td>...</td>\n",
              "      <td>...</td>\n",
              "      <td>...</td>\n",
              "      <td>...</td>\n",
              "      <td>...</td>\n",
              "      <td>...</td>\n",
              "      <td>...</td>\n",
              "    </tr>\n",
              "    <tr>\n",
              "      <th>16710</th>\n",
              "      <td>Samurai Warriors: Sanada Maru</td>\n",
              "      <td>PS3</td>\n",
              "      <td>2016.0</td>\n",
              "      <td>Action</td>\n",
              "      <td>0.00</td>\n",
              "      <td>0.00</td>\n",
              "      <td>0.01</td>\n",
              "      <td>0.00</td>\n",
              "      <td>NaN</td>\n",
              "      <td>NaN</td>\n",
              "      <td></td>\n",
              "      <td>0.01</td>\n",
              "    </tr>\n",
              "    <tr>\n",
              "      <th>16711</th>\n",
              "      <td>LMA Manager 2007</td>\n",
              "      <td>X360</td>\n",
              "      <td>2006.0</td>\n",
              "      <td>Sports</td>\n",
              "      <td>0.00</td>\n",
              "      <td>0.01</td>\n",
              "      <td>0.00</td>\n",
              "      <td>0.00</td>\n",
              "      <td>NaN</td>\n",
              "      <td>NaN</td>\n",
              "      <td></td>\n",
              "      <td>0.01</td>\n",
              "    </tr>\n",
              "    <tr>\n",
              "      <th>16712</th>\n",
              "      <td>Haitaka no Psychedelica</td>\n",
              "      <td>PSV</td>\n",
              "      <td>2016.0</td>\n",
              "      <td>Adventure</td>\n",
              "      <td>0.00</td>\n",
              "      <td>0.00</td>\n",
              "      <td>0.01</td>\n",
              "      <td>0.00</td>\n",
              "      <td>NaN</td>\n",
              "      <td>NaN</td>\n",
              "      <td></td>\n",
              "      <td>0.01</td>\n",
              "    </tr>\n",
              "    <tr>\n",
              "      <th>16713</th>\n",
              "      <td>Spirits &amp; Spells</td>\n",
              "      <td>GBA</td>\n",
              "      <td>2003.0</td>\n",
              "      <td>Platform</td>\n",
              "      <td>0.01</td>\n",
              "      <td>0.00</td>\n",
              "      <td>0.00</td>\n",
              "      <td>0.00</td>\n",
              "      <td>NaN</td>\n",
              "      <td>NaN</td>\n",
              "      <td></td>\n",
              "      <td>0.01</td>\n",
              "    </tr>\n",
              "    <tr>\n",
              "      <th>16714</th>\n",
              "      <td>Winning Post 8 2016</td>\n",
              "      <td>PSV</td>\n",
              "      <td>2016.0</td>\n",
              "      <td>Simulation</td>\n",
              "      <td>0.00</td>\n",
              "      <td>0.00</td>\n",
              "      <td>0.01</td>\n",
              "      <td>0.00</td>\n",
              "      <td>NaN</td>\n",
              "      <td>NaN</td>\n",
              "      <td></td>\n",
              "      <td>0.01</td>\n",
              "    </tr>\n",
              "  </tbody>\n",
              "</table>\n",
              "<p>16715 rows × 12 columns</p>\n",
              "</div>"
            ],
            "text/plain": [
              "                                name platform  ...  rating total_sales\n",
              "0                         Wii Sports      Wii  ...       E       82.54\n",
              "1                  Super Mario Bros.      NES  ...               40.24\n",
              "2                     Mario Kart Wii      Wii  ...       E       35.52\n",
              "3                  Wii Sports Resort      Wii  ...       E       32.77\n",
              "4           Pokemon Red/Pokemon Blue       GB  ...               31.38\n",
              "...                              ...      ...  ...     ...         ...\n",
              "16710  Samurai Warriors: Sanada Maru      PS3  ...                0.01\n",
              "16711               LMA Manager 2007     X360  ...                0.01\n",
              "16712        Haitaka no Psychedelica      PSV  ...                0.01\n",
              "16713               Spirits & Spells      GBA  ...                0.01\n",
              "16714            Winning Post 8 2016      PSV  ...                0.01\n",
              "\n",
              "[16715 rows x 12 columns]"
            ]
          },
          "metadata": {
            "tags": []
          },
          "execution_count": 15
        }
      ]
    },
    {
      "cell_type": "code",
      "metadata": {
        "colab": {
          "base_uri": "https://localhost:8080/"
        },
        "id": "ltnukq2JbEL1",
        "outputId": "744f4e14-1f4c-4fee-faf7-977223fe0c5a"
      },
      "source": [
        "df['year_of_release'].value_counts()\n"
      ],
      "execution_count": 16,
      "outputs": [
        {
          "output_type": "execute_result",
          "data": {
            "text/plain": [
              "2008.0    1427\n",
              "2009.0    1426\n",
              "2010.0    1255\n",
              "2007.0    1197\n",
              "2011.0    1136\n",
              "2006.0    1006\n",
              "2005.0     939\n",
              "2002.0     829\n",
              "2003.0     775\n",
              "2004.0     762\n",
              "2012.0     653\n",
              "2015.0     606\n",
              "2014.0     581\n",
              "2013.0     544\n",
              "2016.0     502\n",
              "2001.0     482\n",
              "1998.0     379\n",
              "2000.0     350\n",
              "1999.0     338\n",
              "1997.0     289\n",
              "1996.0     263\n",
              "1995.0     219\n",
              "1994.0     121\n",
              "1993.0      62\n",
              "1981.0      46\n",
              "1992.0      43\n",
              "1991.0      41\n",
              "1982.0      36\n",
              "1986.0      21\n",
              "1989.0      17\n",
              "1983.0      17\n",
              "1990.0      16\n",
              "1987.0      16\n",
              "1988.0      15\n",
              "1985.0      14\n",
              "1984.0      14\n",
              "1980.0       9\n",
              "Name: year_of_release, dtype: int64"
            ]
          },
          "metadata": {
            "tags": []
          },
          "execution_count": 16
        }
      ]
    },
    {
      "cell_type": "code",
      "metadata": {
        "colab": {
          "base_uri": "https://localhost:8080/"
        },
        "id": "hZ0NIvcmbEJW",
        "outputId": "185ce832-2a4e-4367-c9d2-151f6aaa6050"
      },
      "source": [
        "df.groupby('year_of_release')['name'].count().sort_values(ascending = False)"
      ],
      "execution_count": 16,
      "outputs": [
        {
          "output_type": "execute_result",
          "data": {
            "text/plain": [
              "year_of_release\n",
              "2008    1427\n",
              "2009    1426\n",
              "2010    1255\n",
              "2007    1197\n",
              "2011    1136\n",
              "2006    1006\n",
              "2005     939\n",
              "2002     829\n",
              "2003     775\n",
              "2004     762\n",
              "2012     653\n",
              "2015     606\n",
              "2014     581\n",
              "2013     544\n",
              "2016     502\n",
              "2001     482\n",
              "1998     379\n",
              "2000     350\n",
              "1999     338\n",
              "1997     289\n",
              "1996     263\n",
              "1995     219\n",
              "1994     121\n",
              "1993      60\n",
              "1981      46\n",
              "1992      43\n",
              "1991      41\n",
              "1982      36\n",
              "1986      21\n",
              "1983      17\n",
              "1989      17\n",
              "1987      16\n",
              "1990      16\n",
              "1988      15\n",
              "1985      14\n",
              "1984      14\n",
              "1980       9\n",
              "Name: name, dtype: int64"
            ]
          },
          "metadata": {
            "tags": []
          },
          "execution_count": 16
        }
      ]
    },
    {
      "cell_type": "code",
      "metadata": {
        "colab": {
          "base_uri": "https://localhost:8080/",
          "height": 352
        },
        "id": "IqnyMWz1bEGm",
        "outputId": "792aa86a-5ccc-4632-b956-26acd2882962"
      },
      "source": [
        "number_of_games_each_year = df.pivot_table(index='year_of_release', values='name', aggfunc='count')\n",
        "plt.figure(figsize=(10,5))\n",
        "sns.lineplot(data=number_of_games_each_year)\n",
        "plt.xlabel(\"year_of_release\")\n",
        "plt.ylabel(\"games_count\")\n",
        "plt.legend('')\n",
        "\n",
        "\n",
        "# Количество игр выпускавшихся в период с 1980 года до 1990 очень мала, большой значимости они для нас не представляют,\n",
        "# поэтому могу предполагать, важны лишь данные с 1990 до 2016 года.\n",
        "\n",
        "# На этой стадии сразу можно заметить основную очевидную тенденцию - количество выпускаемых на продажу игр растет каждым годом, \\\n",
        "# пика достигает в 2008, далее постепенно убывает\n",
        "\n",
        "# Причанами спада, по моему мнению являются - насыщение рынка приставок,\n",
        "# утрата издательского контроля, утрата доверия потребителей, рост игр для компьютеров и многие другие причины\n"
      ],
      "execution_count": 17,
      "outputs": [
        {
          "output_type": "execute_result",
          "data": {
            "text/plain": [
              "<matplotlib.legend.Legend at 0x7ff45786a0d0>"
            ]
          },
          "metadata": {
            "tags": []
          },
          "execution_count": 17
        },
        {
          "output_type": "display_data",
          "data": {
            "image/png": "[encoded data removed]",
            "text/plain": [
              "<Figure size 720x360 with 1 Axes>"
            ]
          },
          "metadata": {
            "tags": [],
            "needs_background": "light"
          }
        }
      ]
    },
    {
      "cell_type": "code",
      "metadata": {
        "colab": {
          "base_uri": "https://localhost:8080/"
        },
        "id": "Vg5wH8OhbD-n",
        "outputId": "9f5ba9eb-36e2-4650-93ec-1c62feb05108"
      },
      "source": [
        "df.groupby('year_of_release')['total_sales'].sum().sort_values(ascending = False)\n"
      ],
      "execution_count": 18,
      "outputs": [
        {
          "output_type": "execute_result",
          "data": {
            "text/plain": [
              "year_of_release\n",
              "2008    671.50\n",
              "2009    658.82\n",
              "2007    604.75\n",
              "2010    590.13\n",
              "2006    517.71\n",
              "2011    507.58\n",
              "2005    457.82\n",
              "2004    418.68\n",
              "2002    394.97\n",
              "2013    361.24\n",
              "2003    357.54\n",
              "2012    355.84\n",
              "2014    331.53\n",
              "2001    331.46\n",
              "2015    267.98\n",
              "1998    256.31\n",
              "1999    251.11\n",
              "2000    201.66\n",
              "1997    201.07\n",
              "1996    199.15\n",
              "2016    129.94\n",
              "1995     88.12\n",
              "1994     79.23\n",
              "1992     76.16\n",
              "1989     73.45\n",
              "1985     53.95\n",
              "1984     50.35\n",
              "1990     49.37\n",
              "1988     47.21\n",
              "1993     45.99\n",
              "1986     37.08\n",
              "1981     35.68\n",
              "1991     32.23\n",
              "1982     28.88\n",
              "1987     21.70\n",
              "1983     16.80\n",
              "1980     11.38\n",
              "Name: total_sales, dtype: float64"
            ]
          },
          "metadata": {
            "tags": []
          },
          "execution_count": 18
        }
      ]
    },
    {
      "cell_type": "code",
      "metadata": {
        "colab": {
          "base_uri": "https://localhost:8080/",
          "height": 354
        },
        "id": "FuM9fh1MbDla",
        "outputId": "a413e77f-2f5a-44ab-e704-5a5288010cc4"
      },
      "source": [
        "total_sales_by_year = df.pivot_table(index='year_of_release', values='total_sales', aggfunc='sum')\n",
        "plt.figure(figsize=(10,5))\n",
        "sns.lineplot(data=total_sales_by_year)\n",
        "plt.xlabel(\"year_of_release\")\n",
        "plt.ylabel(\"total_sales\")\n",
        "plt.legend('')\n"
      ],
      "execution_count": 19,
      "outputs": [
        {
          "output_type": "execute_result",
          "data": {
            "text/plain": [
              "<matplotlib.legend.Legend at 0x7ff457357a50>"
            ]
          },
          "metadata": {
            "tags": []
          },
          "execution_count": 19
        },
        {
          "output_type": "display_data",
          "data": {
            "image/png": "[encoded data removed]",
            "text/plain": [
              "<Figure size 720x360 with 1 Axes>"
            ]
          },
          "metadata": {
            "tags": [],
            "needs_background": "light"
          }
        }
      ]
    },
    {
      "cell_type": "code",
      "metadata": {
        "colab": {
          "base_uri": "https://localhost:8080/"
        },
        "id": "22b9m513bUub",
        "outputId": "7e301ac2-9ce5-4aeb-ddbc-37b0064e1620"
      },
      "source": [
        "top_7 = df.groupby('platform')['total_sales'].sum().sort_values(ascending = False).head(8)\n",
        "print(top_7)\n",
        "\n",
        "\n",
        "# С начала 1996 до 2016 (период ровно в 20 лет) общие продажи не были меньше 100 млн долларов.\n",
        "# Явный скачок в индустрии начался в 1996 и достиг пика в 2008.\n"
      ],
      "execution_count": 20,
      "outputs": [
        {
          "output_type": "stream",
          "text": [
            "platform\n",
            "PS2     1255.77\n",
            "X360     971.42\n",
            "PS3      939.65\n",
            "Wii      907.51\n",
            "DS       806.12\n",
            "PS       730.86\n",
            "GBA      317.85\n",
            "PS4      314.14\n",
            "Name: total_sales, dtype: float64\n"
          ],
          "name": "stdout"
        }
      ]
    },
    {
      "cell_type": "code",
      "metadata": {
        "colab": {
          "base_uri": "https://localhost:8080/"
        },
        "id": "lcw6jSofbUsT",
        "outputId": "96c8b9a9-148e-425d-8a48-a4e06e7793e8"
      },
      "source": [
        "top_13_pivot = df[df['total_sales'] > 10].pivot_table(index = ['platform'], columns = 'year_of_release',\n",
        "values = 'total_sales', aggfunc = 'sum')\n",
        "top_13_pivot = top_13_pivot.fillna('')\n",
        "print(top_13_pivot)\n",
        "\n",
        "# NES, GB, SNES, первый PS, N64 были популярны до 21 века(их продажи сейчас на нуле), позже их заменили Wii, X360,\n",
        "# новые поколения PS и так далее. Характерный период смены популярных платформ виднеется аж в 1996 году,\n",
        "# и так продолжалось до 2008 года. Повлиял ли мировой кризис в 2008, вопрос?\n",
        "# Но нам очевидно - с 2008 продажи постепенно снижались, конкурентоспособных платформ так же стало меньше - пришли монополисты, в лице PlayStation & Xbox.\n"
      ],
      "execution_count": 21,
      "outputs": [
        {
          "output_type": "stream",
          "text": [
            "year_of_release   1984   1985   1988  1989  ...   2012   2013   2014   2015\n",
            "platform                                    ...                            \n",
            "3DS                                         ...          14.6  11.68       \n",
            "DS                                          ...                            \n",
            "GB                                    48.4  ...                            \n",
            "GBA                                         ...                            \n",
            "N64                                         ...                            \n",
            "NES              28.31  40.24  17.28        ...                            \n",
            "PS                                          ...                            \n",
            "PS2                                         ...                            \n",
            "PS3                                         ...  13.79  21.05              \n",
            "PS4                                         ...                12.62  14.63\n",
            "SNES                                        ...                            \n",
            "Wii                                         ...                            \n",
            "X360                                        ...  13.68  26.51              \n",
            "\n",
            "[13 rows x 25 columns]\n"
          ],
          "name": "stdout"
        }
      ]
    },
    {
      "cell_type": "code",
      "metadata": {
        "id": "cggFZnikbUqC"
      },
      "source": [
        "def year_total_sale_for_platform(name, data):\n",
        "    slicee = data[(data['platform'] == name) & (data['year_of_release'] > 2005)]\n",
        "    total = slicee.pivot_table(index='year_of_release', values='total_sales', aggfunc='sum').sort_values('year_of_release', ascending=False)\n",
        "    return total\n"
      ],
      "execution_count": 22,
      "outputs": []
    },
    {
      "cell_type": "code",
      "metadata": {
        "id": "f8LG7bYdbUnj"
      },
      "source": [
        "top_5_platforms = df.pivot_table(index='platform', values='total_sales', aggfunc='sum').sort_values(by='total_sales', ascending=False).head(5)\n",
        "top_5_platforms = top_5_platforms.reset_index().rename_axis(None, axis=1)\n"
      ],
      "execution_count": 23,
      "outputs": []
    },
    {
      "cell_type": "code",
      "metadata": {
        "colab": {
          "base_uri": "https://localhost:8080/",
          "height": 404
        },
        "id": "_X1ez7ZcbfPX",
        "outputId": "83e3842c-9c44-4844-cfcd-00278d31ffbe"
      },
      "source": [
        "def year_total_sale_for_platform(name, data):\n",
        "    slicee = data[(data['platform'] == name) & (data['year_of_release'] > 2005)]\n",
        "    total = slicee.pivot_table(index='year_of_release', values='total_sales', aggfunc='sum').sort_values('year_of_release', ascending=False)\n",
        "    return total\n",
        "\n",
        "top_5_platforms = df.pivot_table(index='platform', values='total_sales', aggfunc='sum').sort_values(by='total_sales', ascending=False).head(5)\n",
        "top_5_platforms = top_5_platforms.reset_index().rename_axis(None, axis=1)\n",
        "\n",
        "plt.figure(figsize=(12,6))\n",
        "plt.title('Количество продаж популярных игровых платформ')\n",
        "plt.xlabel('Годы игровых релизов')\n",
        "plt.ylabel('Продажи')\n",
        "\n",
        "for i in list(top_5_platforms['platform']):\n",
        "    sns.lineplot(data=year_total_sale_for_platform(i,df)['total_sales'], label=i)\n",
        "    plt.legend()"
      ],
      "execution_count": 25,
      "outputs": [
        {
          "output_type": "display_data",
          "data": {
            "image/png": "[encoded data removed]",
            "text/plain": [
              "<Figure size 864x432 with 1 Axes>"
            ]
          },
          "metadata": {
            "tags": [],
            "needs_background": "light"
          }
        }
      ]
    },
    {
      "cell_type": "code",
      "metadata": {
        "colab": {
          "base_uri": "https://localhost:8080/",
          "height": 280
        },
        "id": "Wi6wwVX9bUk-",
        "outputId": "53a2112c-7ddd-42f5-a272-6c7c8bc36f7e"
      },
      "source": [
        "for i in list(top_5_platforms['platform']):\n",
        "    sns.lineplot(data=year_total_sale_for_platform(i,df)['total_sales'], label=i)\n",
        "    plt.legend()\n",
        "\n",
        "\n",
        "# Ссылаясь на данные, которые я изучил выше, для того, чтобы избежать значимого искажения распределения по платформам\n",
        "# в 2016 году, надо рассматривать период с 2008 до 2016. Многие популярные платформы с 1980,\n",
        "# сейчас уже не выпускают игры - и данные о них не столь важны для рекламной кампании 2017 года.\n",
        "# Данные с 2008 хорошо подойдут для анализа наших целей - какие компании с 2008 не столь успешны,\n",
        "# а какие только набирают обороты.\n"
      ],
      "execution_count": 26,
      "outputs": [
        {
          "output_type": "display_data",
          "data": {
            "image/png": "[encoded data removed]",
            "text/plain": [
              "<Figure size 432x288 with 1 Axes>"
            ]
          },
          "metadata": {
            "tags": [],
            "needs_background": "light"
          }
        }
      ]
    },
    {
      "cell_type": "code",
      "metadata": {
        "id": "Tg3A0OHfblsB"
      },
      "source": [
        "data = df[df['year_of_release'] >= 2010]\n",
        "\n",
        "# data - новый датасет, который я определил. Дальнейшие работы только с ним.\n"
      ],
      "execution_count": 27,
      "outputs": []
    },
    {
      "cell_type": "code",
      "metadata": {
        "colab": {
          "base_uri": "https://localhost:8080/"
        },
        "id": "_Qq1_Mokblph",
        "outputId": "e000d3a2-8eea-4ebe-e0f6-378944184f83"
      },
      "source": [
        "print(data['year_of_release'].value_counts())\n"
      ],
      "execution_count": 28,
      "outputs": [
        {
          "output_type": "stream",
          "text": [
            "2010    1255\n",
            "2011    1136\n",
            "2012     653\n",
            "2015     606\n",
            "2014     581\n",
            "2013     544\n",
            "2016     502\n",
            "Name: year_of_release, dtype: Int64\n"
          ],
          "name": "stdout"
        }
      ]
    },
    {
      "cell_type": "code",
      "metadata": {
        "colab": {
          "base_uri": "https://localhost:8080/"
        },
        "id": "LB02mbY_blnS",
        "outputId": "82f6ec2e-22d3-4f84-a747-8175be9615cb"
      },
      "source": [
        "data.groupby('year_of_release')['total_sales'].sum().sort_values(ascending = False)\n"
      ],
      "execution_count": 29,
      "outputs": [
        {
          "output_type": "execute_result",
          "data": {
            "text/plain": [
              "year_of_release\n",
              "2010    590.13\n",
              "2011    507.58\n",
              "2013    361.24\n",
              "2012    355.84\n",
              "2014    331.53\n",
              "2015    267.98\n",
              "2016    129.94\n",
              "Name: total_sales, dtype: float64"
            ]
          },
          "metadata": {
            "tags": []
          },
          "execution_count": 29
        }
      ]
    },
    {
      "cell_type": "code",
      "metadata": {
        "colab": {
          "base_uri": "https://localhost:8080/"
        },
        "id": "gsUIIauSbllI",
        "outputId": "2fa8ed55-7031-4ca4-b962-a74475451ffa"
      },
      "source": [
        "data.groupby('platform')['total_sales'].sum().sort_values(ascending = False).head(8)\n"
      ],
      "execution_count": 30,
      "outputs": [
        {
          "output_type": "execute_result",
          "data": {
            "text/plain": [
              "platform\n",
              "PS3     587.74\n",
              "X360    550.41\n",
              "PS4     314.14\n",
              "3DS     257.81\n",
              "Wii     222.97\n",
              "XOne    159.32\n",
              "DS      123.75\n",
              "PC      121.96\n",
              "Name: total_sales, dtype: float64"
            ]
          },
          "metadata": {
            "tags": []
          },
          "execution_count": 30
        }
      ]
    },
    {
      "cell_type": "code",
      "metadata": {
        "colab": {
          "base_uri": "https://localhost:8080/",
          "height": 359
        },
        "id": "mRL2sGuvblio",
        "outputId": "08e8379c-c071-497c-8a7e-cca884ac144d"
      },
      "source": [
        "new_pivot = data[data['total_sales'] > 5].pivot_table(index = ['platform'], columns = 'year_of_release',\n",
        "values = 'total_sales', aggfunc = 'sum')\n",
        "new_pivot = new_pivot.fillna('')\n",
        "new_pivot\n"
      ],
      "execution_count": 31,
      "outputs": [
        {
          "output_type": "execute_result",
          "data": {
            "text/html": [
              "<div>\n",
              "<style scoped>\n",
              "    .dataframe tbody tr th:only-of-type {\n",
              "        vertical-align: middle;\n",
              "    }\n",
              "\n",
              "    .dataframe tbody tr th {\n",
              "        vertical-align: top;\n",
              "    }\n",
              "\n",
              "    .dataframe thead th {\n",
              "        text-align: right;\n",
              "    }\n",
              "</style>\n",
              "<table border=\"1\" class=\"dataframe\">\n",
              "  <thead>\n",
              "    <tr style=\"text-align: right;\">\n",
              "      <th>year_of_release</th>\n",
              "      <th>2010</th>\n",
              "      <th>2011</th>\n",
              "      <th>2012</th>\n",
              "      <th>2013</th>\n",
              "      <th>2014</th>\n",
              "      <th>2015</th>\n",
              "      <th>2016</th>\n",
              "    </tr>\n",
              "    <tr>\n",
              "      <th>platform</th>\n",
              "      <th></th>\n",
              "      <th></th>\n",
              "      <th></th>\n",
              "      <th></th>\n",
              "      <th></th>\n",
              "      <th></th>\n",
              "      <th></th>\n",
              "    </tr>\n",
              "  </thead>\n",
              "  <tbody>\n",
              "    <tr>\n",
              "      <th>3DS</th>\n",
              "      <td></td>\n",
              "      <td>23.46</td>\n",
              "      <td>19.07</td>\n",
              "      <td>19.82</td>\n",
              "      <td>19.23</td>\n",
              "      <td></td>\n",
              "      <td>7.14</td>\n",
              "    </tr>\n",
              "    <tr>\n",
              "      <th>DS</th>\n",
              "      <td>15.13</td>\n",
              "      <td></td>\n",
              "      <td>8.06</td>\n",
              "      <td></td>\n",
              "      <td></td>\n",
              "      <td></td>\n",
              "      <td></td>\n",
              "    </tr>\n",
              "    <tr>\n",
              "      <th>PC</th>\n",
              "      <td></td>\n",
              "      <td></td>\n",
              "      <td>5.14</td>\n",
              "      <td></td>\n",
              "      <td></td>\n",
              "      <td></td>\n",
              "      <td></td>\n",
              "    </tr>\n",
              "    <tr>\n",
              "      <th>PS3</th>\n",
              "      <td>34.88</td>\n",
              "      <td>45.76</td>\n",
              "      <td>28.4</td>\n",
              "      <td>42.73</td>\n",
              "      <td>5.27</td>\n",
              "      <td></td>\n",
              "      <td></td>\n",
              "    </tr>\n",
              "    <tr>\n",
              "      <th>PS4</th>\n",
              "      <td></td>\n",
              "      <td></td>\n",
              "      <td></td>\n",
              "      <td></td>\n",
              "      <td>32</td>\n",
              "      <td>38.36</td>\n",
              "      <td>12.99</td>\n",
              "    </tr>\n",
              "    <tr>\n",
              "      <th>Wii</th>\n",
              "      <td>38.48</td>\n",
              "      <td>10.12</td>\n",
              "      <td>6.76</td>\n",
              "      <td></td>\n",
              "      <td></td>\n",
              "      <td></td>\n",
              "      <td></td>\n",
              "    </tr>\n",
              "    <tr>\n",
              "      <th>WiiU</th>\n",
              "      <td></td>\n",
              "      <td></td>\n",
              "      <td>5.23</td>\n",
              "      <td></td>\n",
              "      <td>7.09</td>\n",
              "      <td></td>\n",
              "      <td></td>\n",
              "    </tr>\n",
              "    <tr>\n",
              "      <th>X360</th>\n",
              "      <td>63.91</td>\n",
              "      <td>37.05</td>\n",
              "      <td>33.84</td>\n",
              "      <td>35.69</td>\n",
              "      <td></td>\n",
              "      <td></td>\n",
              "      <td></td>\n",
              "    </tr>\n",
              "    <tr>\n",
              "      <th>XOne</th>\n",
              "      <td></td>\n",
              "      <td></td>\n",
              "      <td></td>\n",
              "      <td></td>\n",
              "      <td>10.73</td>\n",
              "      <td>7.39</td>\n",
              "      <td></td>\n",
              "    </tr>\n",
              "  </tbody>\n",
              "</table>\n",
              "</div>"
            ],
            "text/plain": [
              "year_of_release   2010   2011   2012   2013   2014   2015   2016\n",
              "platform                                                        \n",
              "3DS                     23.46  19.07  19.82  19.23          7.14\n",
              "DS               15.13          8.06                            \n",
              "PC                              5.14                            \n",
              "PS3              34.88  45.76   28.4  42.73   5.27              \n",
              "PS4                                             32  38.36  12.99\n",
              "Wii              38.48  10.12   6.76                            \n",
              "WiiU                            5.23          7.09              \n",
              "X360             63.91  37.05  33.84  35.69                     \n",
              "XOne                                         10.73   7.39       "
            ]
          },
          "metadata": {
            "tags": []
          },
          "execution_count": 31
        }
      ]
    },
    {
      "cell_type": "code",
      "metadata": {
        "colab": {
          "base_uri": "https://localhost:8080/"
        },
        "id": "t_KVxKHgbzxM",
        "outputId": "8a80fa06-efd1-4e3b-bee4-e99635eb9023"
      },
      "source": [
        "data['name'].value_counts()\n",
        "\n",
        "\n",
        "# Для построения диаграммы размаха (ящик с усами) нужно определить с чем имеим работу.\n",
        "# Нам нужно построить график по глобальным продажам каждой игры и разбивкой по платформам.\n",
        "# При 16000 строк данных - у нас 5245 игры, с чем будем работать, некоторые из игр повторяются, и\n",
        "# сумма глобальных продаж одной игры на наши выводы возможно будут влиять\n"
      ],
      "execution_count": 32,
      "outputs": [
        {
          "output_type": "execute_result",
          "data": {
            "text/plain": [
              "LEGO Marvel Super Heroes                 9\n",
              "FIFA 14                                  9\n",
              "FIFA 15                                  8\n",
              "The LEGO Movie Videogame                 8\n",
              "Lego Batman 3: Beyond Gotham             8\n",
              "                                        ..\n",
              "Invizimals: The Lost Kingdom             1\n",
              "PriPara Mezase! Idol Grand Prix No.1!    1\n",
              "Airline Tycoon 2                         1\n",
              "Voodoo Chronicles: First Sign            1\n",
              "Etrian Odyssey V                         1\n",
              "Name: name, Length: 3282, dtype: int64"
            ]
          },
          "metadata": {
            "tags": []
          },
          "execution_count": 32
        }
      ]
    },
    {
      "cell_type": "code",
      "metadata": {
        "colab": {
          "base_uri": "https://localhost:8080/"
        },
        "id": "7Dwpby9Sbzuj",
        "outputId": "56b00e10-108d-4d81-800c-ce8688254553"
      },
      "source": [
        "data['platform'].value_counts()\n"
      ],
      "execution_count": 33,
      "outputs": [
        {
          "output_type": "execute_result",
          "data": {
            "text/plain": [
              "PS3     889\n",
              "X360    680\n",
              "3DS     512\n",
              "DS      507\n",
              "PSP     500\n",
              "PC      479\n",
              "Wii     450\n",
              "PSV     429\n",
              "PS4     392\n",
              "XOne    247\n",
              "WiiU    147\n",
              "PS2      45\n",
              "Name: platform, dtype: int64"
            ]
          },
          "metadata": {
            "tags": []
          },
          "execution_count": 33
        }
      ]
    },
    {
      "cell_type": "code",
      "metadata": {
        "colab": {
          "base_uri": "https://localhost:8080/"
        },
        "id": "L2MrAWmMbzsM",
        "outputId": "3eaa55c4-90d9-40bc-d429-f1034eba4c32"
      },
      "source": [
        "data.groupby('platform')['name'].count().sort_values(ascending = False)\n",
        "\n",
        "\n",
        "# Эти данные тоже очень привлекательные. В то время как у DS с 2008 года было выпущено 1402 игр,\n",
        "# у DC и XB всего одна - возможно при срезе данных игры выпущенные на этих платформах, до 2008 года,\n",
        "# были утеряны. Это значительный выброс при показателе 1, поэтому их лучше не допускать на дальнейший анализ датасета.\n",
        "\n",
        "# Перспективные платформы на 2017 год - PS3, X360, PS4, 3DS, XOne. Разница продаж на актуальный период очень высокий,\n",
        "# поэтому можно считать их действительно хорошими.\n",
        "# Но нужно учесть тот факт, Play Station - одна компания, и более поздные релизы платформ данной компании\n",
        "# нам могут помочь сделать ставку на PS4 - последние годы неплохие продажи, и он явно будет расти.\n"
      ],
      "execution_count": 34,
      "outputs": [
        {
          "output_type": "execute_result",
          "data": {
            "text/plain": [
              "platform\n",
              "PS3     889\n",
              "X360    680\n",
              "3DS     512\n",
              "DS      507\n",
              "PSP     500\n",
              "PC      479\n",
              "Wii     450\n",
              "PSV     429\n",
              "PS4     392\n",
              "XOne    247\n",
              "WiiU    147\n",
              "PS2      45\n",
              "Name: name, dtype: int64"
            ]
          },
          "metadata": {
            "tags": []
          },
          "execution_count": 34
        }
      ]
    },
    {
      "cell_type": "code",
      "metadata": {
        "id": "kzcT1SQ1bzqD"
      },
      "source": [
        "data = data[data['platform'] != 'DC' ]\n",
        "data = data[data['platform'] != 'XB' ]\n"
      ],
      "execution_count": 35,
      "outputs": []
    },
    {
      "cell_type": "code",
      "metadata": {
        "colab": {
          "base_uri": "https://localhost:8080/",
          "height": 283
        },
        "id": "cBNilPC9bzn7",
        "outputId": "daa1275f-fa29-4fd1-9ac2-0f80547d0571"
      },
      "source": [
        "data.boxplot('total_sales')\n",
        "\n",
        "\n",
        "# Разница в продажах очень велика - наше медианное значение находиться слишком далеко от значимой части значений,\n",
        "# что подтверждает не все игры успешно продаются.\n"
      ],
      "execution_count": 36,
      "outputs": [
        {
          "output_type": "execute_result",
          "data": {
            "text/plain": [
              "<matplotlib.axes._subplots.AxesSubplot at 0x7ff4558cc510>"
            ]
          },
          "metadata": {
            "tags": []
          },
          "execution_count": 36
        },
        {
          "output_type": "display_data",
          "data": {
            "image/png": "[encoded data removed]",
            "text/plain": [
              "<Figure size 432x288 with 1 Axes>"
            ]
          },
          "metadata": {
            "tags": [],
            "needs_background": "light"
          }
        }
      ]
    },
    {
      "cell_type": "code",
      "metadata": {
        "colab": {
          "base_uri": "https://localhost:8080/"
        },
        "id": "ZRZegHF1bzlb",
        "outputId": "b334bc01-d16b-4aaa-dbdc-e112c171927b"
      },
      "source": [
        "data.groupby('platform')['total_sales'].sum().sort_values(ascending = False)\n"
      ],
      "execution_count": 37,
      "outputs": [
        {
          "output_type": "execute_result",
          "data": {
            "text/plain": [
              "platform\n",
              "PS3     587.74\n",
              "X360    550.41\n",
              "PS4     314.14\n",
              "3DS     257.81\n",
              "Wii     222.97\n",
              "XOne    159.32\n",
              "DS      123.75\n",
              "PC      121.96\n",
              "WiiU     82.19\n",
              "PSP      64.05\n",
              "PSV      53.81\n",
              "PS2       6.09\n",
              "Name: total_sales, dtype: float64"
            ]
          },
          "metadata": {
            "tags": []
          },
          "execution_count": 37
        }
      ]
    },
    {
      "cell_type": "code",
      "metadata": {
        "colab": {
          "base_uri": "https://localhost:8080/",
          "height": 283
        },
        "id": "KULAXBJib_we",
        "outputId": "4a55e517-3396-45f8-902b-3f350409b54f"
      },
      "source": [
        "data_ps3 = data[data['platform'] == 'PS3']\n",
        "data_ps3.boxplot('total_sales')\n"
      ],
      "execution_count": 38,
      "outputs": [
        {
          "output_type": "execute_result",
          "data": {
            "text/plain": [
              "<matplotlib.axes._subplots.AxesSubplot at 0x7ff45589f290>"
            ]
          },
          "metadata": {
            "tags": []
          },
          "execution_count": 38
        },
        {
          "output_type": "display_data",
          "data": {
            "image/png": "[encoded data removed]",
            "text/plain": [
              "<Figure size 432x288 with 1 Axes>"
            ]
          },
          "metadata": {
            "tags": [],
            "needs_background": "light"
          }
        }
      ]
    },
    {
      "cell_type": "code",
      "metadata": {
        "colab": {
          "base_uri": "https://localhost:8080/"
        },
        "id": "Bj3cGAJzb_uJ",
        "outputId": "cac7df8a-8a98-4124-ab49-3816509481ae"
      },
      "source": [
        "data.groupby('platform')['total_sales'].mean().sort_values(ascending = False)\n",
        "\n",
        "\n",
        "# Значительной разницы в средних продажах игр нет, но это ощутимо при больших данных.\n",
        "# И показывает стабильность продаж одной конкретной игры."
      ],
      "execution_count": 39,
      "outputs": [
        {
          "output_type": "execute_result",
          "data": {
            "text/plain": [
              "platform\n",
              "X360    0.809426\n",
              "PS4     0.801378\n",
              "PS3     0.661125\n",
              "XOne    0.645020\n",
              "WiiU    0.559116\n",
              "3DS     0.503535\n",
              "Wii     0.495489\n",
              "PC      0.254614\n",
              "DS      0.244083\n",
              "PS2     0.135333\n",
              "PSP     0.128100\n",
              "PSV     0.125431\n",
              "Name: total_sales, dtype: float64"
            ]
          },
          "metadata": {
            "tags": []
          },
          "execution_count": 39
        }
      ]
    },
    {
      "cell_type": "code",
      "metadata": {
        "id": "dlUHlokVb_rt"
      },
      "source": [
        "list_of_top5 = ['PS2','X360','PS3','Wii','DS']\n",
        "df_top_5_platforms = df[df['platform'].isin(['PS2','X360','PS3','Wii','DS'])]\n",
        "df_top_5_platforms = df_top_5_platforms[df_top_5_platforms['total_sales']<1.4]"
      ],
      "execution_count": 40,
      "outputs": []
    },
    {
      "cell_type": "code",
      "metadata": {
        "colab": {
          "base_uri": "https://localhost:8080/",
          "height": 426
        },
        "id": "KBT71_4cb_pW",
        "outputId": "747b7bde-b0fc-458e-86f4-d8289126a9eb"
      },
      "source": [
        "plt.figure(figsize=(12,6))\n",
        "sns.boxplot(data=df_top_5_platforms, x='platform', y='total_sales')\n",
        "plt.title('Ящик с усами', fontsize=15)\n",
        "plt.xlabel('Платформа', fontsize=12)\n",
        "plt.ylabel('Глобальные продажи',fontsize=12)\n"
      ],
      "execution_count": 41,
      "outputs": [
        {
          "output_type": "execute_result",
          "data": {
            "text/plain": [
              "Text(0, 0.5, 'Глобальные продажи')"
            ]
          },
          "metadata": {
            "tags": []
          },
          "execution_count": 41
        },
        {
          "output_type": "display_data",
          "data": {
            "image/png": "[encoded data removed]",
            "text/plain": [
              "<Figure size 864x432 with 1 Axes>"
            ]
          },
          "metadata": {
            "tags": [],
            "needs_background": "light"
          }
        }
      ]
    },
    {
      "cell_type": "code",
      "metadata": {
        "id": "iXqZVkpxcP2O"
      },
      "source": [
        "data_ps3 = data[data['platform'] == 'PS3']\n",
        "\n",
        "\n",
        "# Выбираю Play Station 3 как самую популярную платформу(самые высокие продажи)\n"
      ],
      "execution_count": 42,
      "outputs": []
    },
    {
      "cell_type": "code",
      "metadata": {
        "colab": {
          "base_uri": "https://localhost:8080/",
          "height": 558
        },
        "id": "jcPluny_cPz2",
        "outputId": "c61d8245-6550-4ff5-b937-6467dcc145ed"
      },
      "source": [
        "data_ps3.plot(x='user_score', y='total_sales', kind='scatter')\n",
        "data_ps3.plot(x='user_score', y='total_sales', kind='hexbin',gridsize=18, sharex=False, grid=True)\n"
      ],
      "execution_count": 43,
      "outputs": [
        {
          "output_type": "execute_result",
          "data": {
            "text/plain": [
              "<matplotlib.axes._subplots.AxesSubplot at 0x7ff4556c0bd0>"
            ]
          },
          "metadata": {
            "tags": []
          },
          "execution_count": 43
        },
        {
          "output_type": "display_data",
          "data": {
            "image/png": "[encoded data removed]",
            "text/plain": [
              "<Figure size 432x288 with 1 Axes>"
            ]
          },
          "metadata": {
            "tags": [],
            "needs_background": "light"
          }
        },
        {
          "output_type": "display_data",
          "data": {
            "image/png": "[encoded data removed]",
            "text/plain": [
              "<Figure size 432x288 with 2 Axes>"
            ]
          },
          "metadata": {
            "tags": [],
            "needs_background": "light"
          }
        }
      ]
    },
    {
      "cell_type": "code",
      "metadata": {
        "colab": {
          "base_uri": "https://localhost:8080/",
          "height": 560
        },
        "id": "o2w-RnuBcPwF",
        "outputId": "dff7acbd-dd90-4a97-b8ee-b67539dc49f2"
      },
      "source": [
        "data_ps3.plot(x='crtitic_score', y='total_sales', kind='scatter')\n",
        "data_ps3.plot(x='crtitic_score', y='total_sales', kind='hexbin',gridsize=18, sharex=False, grid=True)\n",
        "\n",
        "\n",
        "# Глядя на графики можно сказать, сильного влияния на продажи оценки критиков и пользователей не несет.\n",
        "# Высокая плотность продаж находиться близким к нашим средним и медианным значениям - этому соответсвует\n",
        "# score критиков и пользователей в районе от 6 до 8.\n",
        "# Рейтинг пользователей никак не влияет на продажи, что подтвердит наше кореляционное значение далее.\n",
        "# А зависимость продаж игры и оценки критиков есть, но не столь очевидная. В важности оценок критики побеждают пользователей :).\n",
        "# Чем выше значение рейтинг критиков, тем хорошо для игры.\n"
      ],
      "execution_count": 45,
      "outputs": [
        {
          "output_type": "execute_result",
          "data": {
            "text/plain": [
              "<matplotlib.axes._subplots.AxesSubplot at 0x7ff45549c890>"
            ]
          },
          "metadata": {
            "tags": []
          },
          "execution_count": 45
        },
        {
          "output_type": "display_data",
          "data": {
            "image/png": "[encoded data removed]",
            "text/plain": [
              "<Figure size 432x288 with 1 Axes>"
            ]
          },
          "metadata": {
            "tags": [],
            "needs_background": "light"
          }
        },
        {
          "output_type": "display_data",
          "data": {
            "image/png": "[encoded data removed]",
            "text/plain": [
              "<Figure size 432x288 with 2 Axes>"
            ]
          },
          "metadata": {
            "tags": [],
            "needs_background": "light"
          }
        }
      ]
    },
    {
      "cell_type": "code",
      "metadata": {
        "colab": {
          "base_uri": "https://localhost:8080/"
        },
        "id": "30VckXZzcPsd",
        "outputId": "4d2f139c-8439-4c0f-d0b5-c7794831004e"
      },
      "source": [
        "data_ps3['crtitic_score'].corr(data_ps3['total_sales'])\n"
      ],
      "execution_count": 46,
      "outputs": [
        {
          "output_type": "execute_result",
          "data": {
            "text/plain": [
              "0.40059409352022496"
            ]
          },
          "metadata": {
            "tags": []
          },
          "execution_count": 46
        }
      ]
    },
    {
      "cell_type": "code",
      "metadata": {
        "colab": {
          "base_uri": "https://localhost:8080/"
        },
        "id": "lpRPQ5THcPqc",
        "outputId": "47c226f1-e4b6-4a2b-b2e6-7ae6bb071f4f"
      },
      "source": [
        "data_ps3['user_score'].corr(data_ps3['total_sales'])\n",
        "\n",
        "\n",
        "# Корреляция в 0,42 говорит о наличии связи, однако не слишком сильной.\n",
        "# А связи между пользовательским рейтингом и глобальными продажами - почти что нет, очень малое значение близкий к нулю,\n",
        "# что подтверждает оценки пользователей никак не влияют на продажу.\n"
      ],
      "execution_count": 47,
      "outputs": [
        {
          "output_type": "execute_result",
          "data": {
            "text/plain": [
              "0.06509241630476506"
            ]
          },
          "metadata": {
            "tags": []
          },
          "execution_count": 47
        }
      ]
    },
    {
      "cell_type": "code",
      "metadata": {
        "colab": {
          "base_uri": "https://localhost:8080/",
          "height": 1000
        },
        "id": "A32dM_VncPoc",
        "outputId": "92355dec-35e2-441c-fc2c-862111f9e188"
      },
      "source": [
        "data_x360 = data[data['platform'] == 'X360']\n",
        "data_x360.plot(x='total_sales', y='user_score', kind='scatter')\n",
        "data_x360.plot(x='total_sales', y='crtitic_score', kind='scatter')\n",
        "data_wii = data[data['platform'] == 'Wii']\n",
        "data_wii.plot(x='total_sales', y='user_score', kind='scatter')\n",
        "data_wii.plot(x='total_sales', y='crtitic_score', kind='scatter')\n"
      ],
      "execution_count": 48,
      "outputs": [
        {
          "output_type": "execute_result",
          "data": {
            "text/plain": [
              "<matplotlib.axes._subplots.AxesSubplot at 0x7ff455722350>"
            ]
          },
          "metadata": {
            "tags": []
          },
          "execution_count": 48
        },
        {
          "output_type": "display_data",
          "data": {
            "image/png": "[encoded data removed]",
            "text/plain": [
              "<Figure size 432x288 with 1 Axes>"
            ]
          },
          "metadata": {
            "tags": [],
            "needs_background": "light"
          }
        },
        {
          "output_type": "display_data",
          "data": {
            "image/png": "[encoded data removed]",
            "text/plain": [
              "<Figure size 432x288 with 1 Axes>"
            ]
          },
          "metadata": {
            "tags": [],
            "needs_background": "light"
          }
        },
        {
          "output_type": "display_data",
          "data": {
            "image/png": "[encoded data removed]",
            "text/plain": [
              "<Figure size 432x288 with 1 Axes>"
            ]
          },
          "metadata": {
            "tags": [],
            "needs_background": "light"
          }
        },
        {
          "output_type": "display_data",
          "data": {
            "image/png": "[encoded data removed]",
            "text/plain": [
              "<Figure size 432x288 with 1 Axes>"
            ]
          },
          "metadata": {
            "tags": [],
            "needs_background": "light"
          }
        }
      ]
    },
    {
      "cell_type": "code",
      "metadata": {
        "colab": {
          "base_uri": "https://localhost:8080/"
        },
        "id": "ZKK8mor7cPmT",
        "outputId": "35ff501c-5064-4a46-dce6-5f92c7eb2218"
      },
      "source": [
        "data_x360['crtitic_score'].corr(data_x360['total_sales'])\n"
      ],
      "execution_count": 49,
      "outputs": [
        {
          "output_type": "execute_result",
          "data": {
            "text/plain": [
              "0.3400641581317536"
            ]
          },
          "metadata": {
            "tags": []
          },
          "execution_count": 49
        }
      ]
    },
    {
      "cell_type": "code",
      "metadata": {
        "colab": {
          "base_uri": "https://localhost:8080/"
        },
        "id": "b2oIOgWWcPj0",
        "outputId": "af248408-1bab-4fb7-9590-98289486eca0"
      },
      "source": [
        "data_wii['crtitic_score'].corr(data_wii['total_sales'])\n"
      ],
      "execution_count": 50,
      "outputs": [
        {
          "output_type": "execute_result",
          "data": {
            "text/plain": [
              "0.3105877104820997"
            ]
          },
          "metadata": {
            "tags": []
          },
          "execution_count": 50
        }
      ]
    },
    {
      "cell_type": "code",
      "metadata": {
        "colab": {
          "base_uri": "https://localhost:8080/"
        },
        "id": "dgEWT2yLcmZr",
        "outputId": "52f89cf1-2458-47a9-9531-1c3362237ab1"
      },
      "source": [
        "data_x360['user_score'].corr(data_x360['total_sales'])\n"
      ],
      "execution_count": 51,
      "outputs": [
        {
          "output_type": "execute_result",
          "data": {
            "text/plain": [
              "0.06603518173931955"
            ]
          },
          "metadata": {
            "tags": []
          },
          "execution_count": 51
        }
      ]
    },
    {
      "cell_type": "code",
      "metadata": {
        "colab": {
          "base_uri": "https://localhost:8080/"
        },
        "id": "uUEVUhFVcmXX",
        "outputId": "78758c35-f54d-48c2-8b39-0f493c7462f7"
      },
      "source": [
        "data_wii['user_score'].corr(data_wii['total_sales'])\n",
        "\n",
        "\n",
        "# Соотнеся к значениям других 2 не менее популярных платформ видим во многом одну и то же картину,\n",
        "# что означает - оценки пользователей никак не несут информативной связи(каждый человек оценивает исходя из своего опыта;\n",
        "# пользователей много - сильный разброс). Обстоят дела лучше у оценок критиков - тут они имеют значения,\n",
        "# чем больше показатель тем хорошо будет для успешности игры\n"
      ],
      "execution_count": 52,
      "outputs": [
        {
          "output_type": "execute_result",
          "data": {
            "text/plain": [
              "0.14715977707531702"
            ]
          },
          "metadata": {
            "tags": []
          },
          "execution_count": 52
        }
      ]
    },
    {
      "cell_type": "code",
      "metadata": {
        "colab": {
          "base_uri": "https://localhost:8080/"
        },
        "id": "bV5F-IkfcmVH",
        "outputId": "36ca756d-91bc-4e1d-be87-2e1c01ebe5c1"
      },
      "source": [
        "data.groupby('genre')['name'].count().sort_values(ascending = False)\n",
        "\n",
        "\n",
        "# Смотря на эту группировку можно сказать, что жанр 'Action' - самый популярный, далее Misc & Sports со\n",
        "# схожей частотой, и самый редкий - игры с жанром Платформер\n"
      ],
      "execution_count": 53,
      "outputs": [
        {
          "output_type": "execute_result",
          "data": {
            "text/plain": [
              "genre\n",
              "Action          1495\n",
              "Misc             576\n",
              "Sports           575\n",
              "Role-Playing     568\n",
              "Adventure        563\n",
              "Shooter          410\n",
              "Racing           237\n",
              "Simulation       217\n",
              "Fighting         199\n",
              "Strategy         170\n",
              "Platform         153\n",
              "Puzzle           114\n",
              "Name: name, dtype: int64"
            ]
          },
          "metadata": {
            "tags": []
          },
          "execution_count": 53
        }
      ]
    },
    {
      "cell_type": "code",
      "metadata": {
        "colab": {
          "base_uri": "https://localhost:8080/"
        },
        "id": "xwOeuWhicmSu",
        "outputId": "b792eb2b-25ee-4b48-dc73-d1cfc8abd4d7"
      },
      "source": [
        "data.groupby('genre')['total_sales'].sum().sort_values(ascending = False)\n",
        "\n",
        "\n",
        "# Самым популярным и прибыльным остается жанр - Action, далее не менее прибыльные Shooter,\n",
        "# Sports & Role-Playing. Можно заметить, что не все популярные игры - столь прибыльные.\n",
        "# Не самые прибыльные жанры - puzzle & стратегия, и они выделяются своими низкими продажами.\n",
        "# А top-1 не смотря ни на что, по всем показателям держит жанр Action\n"
      ],
      "execution_count": 54,
      "outputs": [
        {
          "output_type": "execute_result",
          "data": {
            "text/plain": [
              "genre\n",
              "Action          673.09\n",
              "Shooter         479.74\n",
              "Sports          328.39\n",
              "Role-Playing    315.28\n",
              "Misc            234.56\n",
              "Racing          122.68\n",
              "Platform        119.72\n",
              "Fighting         81.59\n",
              "Simulation       71.75\n",
              "Adventure        61.00\n",
              "Strategy         35.84\n",
              "Puzzle           20.60\n",
              "Name: total_sales, dtype: float64"
            ]
          },
          "metadata": {
            "tags": []
          },
          "execution_count": 54
        }
      ]
    },
    {
      "cell_type": "code",
      "metadata": {
        "colab": {
          "base_uri": "https://localhost:8080/"
        },
        "id": "HA7yweE-cmO_",
        "outputId": "450963c6-8161-4808-ede4-47205b0901f2"
      },
      "source": [
        "data.groupby('platform')['na_sales'].sum().sort_values(ascending = False).head()\n"
      ],
      "execution_count": 55,
      "outputs": [
        {
          "output_type": "execute_result",
          "data": {
            "text/plain": [
              "platform\n",
              "X360    334.18\n",
              "PS3     229.25\n",
              "Wii     121.20\n",
              "PS4     108.74\n",
              "XOne     93.12\n",
              "Name: na_sales, dtype: float64"
            ]
          },
          "metadata": {
            "tags": []
          },
          "execution_count": 55
        }
      ]
    },
    {
      "cell_type": "code",
      "metadata": {
        "colab": {
          "base_uri": "https://localhost:8080/"
        },
        "id": "H-cxJ3q7cmMt",
        "outputId": "c491850d-9a15-4c14-a9a1-c347e58e3644"
      },
      "source": [
        "data.groupby('platform')['eu_sales'].sum().sort_values(ascending = False).head()\n"
      ],
      "execution_count": 56,
      "outputs": [
        {
          "output_type": "execute_result",
          "data": {
            "text/plain": [
              "platform\n",
              "PS3     213.60\n",
              "X360    163.41\n",
              "PS4     141.09\n",
              "PC       68.82\n",
              "Wii      65.91\n",
              "Name: eu_sales, dtype: float64"
            ]
          },
          "metadata": {
            "tags": []
          },
          "execution_count": 56
        }
      ]
    },
    {
      "cell_type": "code",
      "metadata": {
        "colab": {
          "base_uri": "https://localhost:8080/"
        },
        "id": "hPLOq58BcmLB",
        "outputId": "72dd98be-2767-4f87-bbe0-8a9c3f45b2d9"
      },
      "source": [
        "data.groupby('platform')['jp_sales'].sum().sort_values(ascending = False).head()\n",
        "\n",
        "\n",
        "# Можно сразу заметить, игры в северной Америке продаются очень хорошо - продажи очень высокие,\n",
        "# основная масса аудиторий находиться там.\n",
        "# Сравнительно в Европе продажи ниже, хотя население людей больше в Европе - спрос на игры заметно ниже.\n",
        "# А цифры Японии ожидаемы, на такую маленькую страну неплохие показатели продаж.\n"
      ],
      "execution_count": 57,
      "outputs": [
        {
          "output_type": "execute_result",
          "data": {
            "text/plain": [
              "platform\n",
              "3DS    100.62\n",
              "PS3     59.26\n",
              "PSP     42.20\n",
              "DS      27.90\n",
              "PSV     21.84\n",
              "Name: jp_sales, dtype: float64"
            ]
          },
          "metadata": {
            "tags": []
          },
          "execution_count": 57
        }
      ]
    },
    {
      "cell_type": "code",
      "metadata": {
        "colab": {
          "base_uri": "https://localhost:8080/"
        },
        "id": "7FmX9ydfcmIk",
        "outputId": "9414151c-5b64-47f5-d35a-684f31c6ced3"
      },
      "source": [
        "data.groupby('genre')['na_sales'].sum().sort_values(ascending = False).head()\n",
        "data.groupby('genre')['eu_sales'].sum().sort_values(ascending = False).head()\n",
        "data.groupby('genre')['jp_sales'].sum().sort_values(ascending = False).head()\n",
        "\n",
        "\n",
        "# Тут уже дела куда интереснее. По жанрам можно сразу определить интересы людей в конкретном месте.\n",
        "# Ожидаемо по популярности жанров на таких два больших континента Европы и Америка,\n",
        "# схожие предпочтения, в то время как, у Японии свои вкусы. Там людям более интересно жанр role-playing и adventure.\n",
        "\n",
        "# Япония — третий по величине рынок видеоигр в мире. У них своя индустрия, развитие и независимая технология разработки игр.\n",
        "# Предпочтения игр тоже разное: влияют много факторов, такие как, культура и менталитет, и множество других.\n"
      ],
      "execution_count": 58,
      "outputs": [
        {
          "output_type": "execute_result",
          "data": {
            "text/plain": [
              "genre\n",
              "Role-Playing    103.54\n",
              "Action           72.20\n",
              "Misc             24.29\n",
              "Platform         15.81\n",
              "Adventure        15.67\n",
              "Name: jp_sales, dtype: float64"
            ]
          },
          "metadata": {
            "tags": []
          },
          "execution_count": 58
        }
      ]
    },
    {
      "cell_type": "code",
      "metadata": {
        "colab": {
          "base_uri": "https://localhost:8080/"
        },
        "id": "_GyTx4JRcmFt",
        "outputId": "b76609f0-86c5-4e7b-d7fa-6f5201a2cec5"
      },
      "source": [
        "data.groupby('crtitic_score')['jp_sales'].sum().sort_values(ascending = False).head(10)\n"
      ],
      "execution_count": 59,
      "outputs": [
        {
          "output_type": "execute_result",
          "data": {
            "text/plain": [
              "crtitic_score\n",
              "88.0    8.45\n",
              "78.0    7.93\n",
              "77.0    6.02\n",
              "68.0    5.46\n",
              "85.0    5.08\n",
              "86.0    5.07\n",
              "80.0    4.93\n",
              "71.0    4.83\n",
              "74.0    4.41\n",
              "83.0    4.41\n",
              "Name: jp_sales, dtype: float64"
            ]
          },
          "metadata": {
            "tags": []
          },
          "execution_count": 59
        }
      ]
    },
    {
      "cell_type": "code",
      "metadata": {
        "colab": {
          "base_uri": "https://localhost:8080/"
        },
        "id": "NHFtNbBBcmCg",
        "outputId": "ebaca92b-dab7-48df-ff80-130ac6edb1c4"
      },
      "source": [
        "data['rating'].value_counts()\n",
        "\n",
        "\n",
        "# In[50]:\n"
      ],
      "execution_count": 60,
      "outputs": [
        {
          "output_type": "execute_result",
          "data": {
            "text/plain": [
              "        2164\n",
              "E        938\n",
              "T        847\n",
              "M        719\n",
              "E10+     603\n",
              "EC         5\n",
              "RP         1\n",
              "Name: rating, dtype: int64"
            ]
          },
          "metadata": {
            "tags": []
          },
          "execution_count": 60
        }
      ]
    },
    {
      "cell_type": "code",
      "metadata": {
        "colab": {
          "base_uri": "https://localhost:8080/"
        },
        "id": "oXOklj_pcl_H",
        "outputId": "c01028a6-6eb7-41f3-d9a0-3300fd55285f"
      },
      "source": [
        "data.groupby('crtitic_score')['crtitic_score'].sum().sort_values(ascending = False).head(10)\n"
      ],
      "execution_count": 61,
      "outputs": [
        {
          "output_type": "execute_result",
          "data": {
            "text/plain": [
              "crtitic_score\n",
              "80.0    6960.0\n",
              "74.0    6882.0\n",
              "77.0    6468.0\n",
              "79.0    5925.0\n",
              "83.0    5810.0\n",
              "75.0    5775.0\n",
              "76.0    5624.0\n",
              "82.0    5576.0\n",
              "78.0    5304.0\n",
              "81.0    5265.0\n",
              "Name: crtitic_score, dtype: float64"
            ]
          },
          "metadata": {
            "tags": []
          },
          "execution_count": 61
        }
      ]
    },
    {
      "cell_type": "code",
      "metadata": {
        "colab": {
          "base_uri": "https://localhost:8080/"
        },
        "id": "_cQ6ecaYcl80",
        "outputId": "8e439475-4dc6-437c-da25-c7b8724285e7"
      },
      "source": [
        "data['genre'].value_counts()\n",
        "\n",
        "# У нас в общем 12 жанров.\n"
      ],
      "execution_count": 62,
      "outputs": [
        {
          "output_type": "execute_result",
          "data": {
            "text/plain": [
              "Action          1495\n",
              "Misc             576\n",
              "Sports           575\n",
              "Role-Playing     568\n",
              "Adventure        563\n",
              "Shooter          410\n",
              "Racing           237\n",
              "Simulation       217\n",
              "Fighting         199\n",
              "Strategy         170\n",
              "Platform         153\n",
              "Puzzle           114\n",
              "Name: genre, dtype: int64"
            ]
          },
          "metadata": {
            "tags": []
          },
          "execution_count": 62
        }
      ]
    },
    {
      "cell_type": "code",
      "metadata": {
        "id": "qUQSZoozcl7i"
      },
      "source": [
        "data_action = data[data['genre'] == 'Action']\n",
        "data_role_playing = data[data['genre'] == 'Role-Playing']\n",
        "data_adventure = data[data['genre'] == 'Adventure']\n"
      ],
      "execution_count": 63,
      "outputs": []
    },
    {
      "cell_type": "code",
      "metadata": {
        "colab": {
          "base_uri": "https://localhost:8080/"
        },
        "id": "_SSQTOMBcl5Y",
        "outputId": "12c3b5ee-78a5-4f66-8c27-739480564937"
      },
      "source": [
        "print('genre Action')\n",
        "print(\"Дисперсия user_score \",np.var(data_action['user_score']))\n",
        "print('Стандартное отклонение user_score',np.std(data_action['user_score']))\n",
        "print(\"Дисперсия crtitic_score \",np.var(data_action['crtitic_score']))\n",
        "print('Стандартное отклонение crtitic_score',np.std(data_action['crtitic_score']))\n"
      ],
      "execution_count": 64,
      "outputs": [
        {
          "output_type": "stream",
          "text": [
            "genre Action\n",
            "Дисперсия user_score  1.8477725137227088\n",
            "Стандартное отклонение user_score 1.3593279640037972\n",
            "Дисперсия crtitic_score  181.7362844811262\n",
            "Стандартное отклонение crtitic_score 13.480960072677547\n"
          ],
          "name": "stdout"
        }
      ]
    },
    {
      "cell_type": "code",
      "metadata": {
        "colab": {
          "base_uri": "https://localhost:8080/"
        },
        "id": "d-3tKFQFcl14",
        "outputId": "1882b2dd-b4ee-414e-dc4e-84a22f0268ab"
      },
      "source": [
        "print(\"genre Role-Playing\")\n",
        "print(\"Дисперсия user_score \",np.var(data_role_playing['user_score']))\n",
        "print('Стандартное отклонение user_score',np.std(data_role_playing['user_score']))\n",
        "print(\"Дисперсия crtitic_score \",np.var(data_role_playing['crtitic_score']))\n",
        "print('Стандартное отклонение crtitic_score',np.std(data_role_playing['crtitic_score']))\n"
      ],
      "execution_count": 65,
      "outputs": [
        {
          "output_type": "stream",
          "text": [
            "genre Role-Playing\n",
            "Дисперсия user_score  1.4450073335706648\n",
            "Стандартное отклонение user_score 1.2020845783765237\n",
            "Дисперсия crtitic_score  146.66532333064632\n",
            "Стандартное отклонение crtitic_score 12.110545955102367\n"
          ],
          "name": "stdout"
        }
      ]
    },
    {
      "cell_type": "code",
      "metadata": {
        "colab": {
          "base_uri": "https://localhost:8080/"
        },
        "id": "zV4Q2aggcl0F",
        "outputId": "63173905-c2c5-4dee-d288-3f0fda441ace"
      },
      "source": [
        "print(\"Genre Adventure\")\n",
        "print(\"Дисперсия user_score \",np.var(data_adventure['user_score']))\n",
        "print('Стандартное отклонение user_score',np.std(data_adventure['user_score']))\n",
        "print(\"Дисперсия crtitic_score \",np.var(data_adventure['crtitic_score']))\n",
        "print('Стандартное отклонение crtitic_score',np.std(data_adventure['crtitic_score']))\n"
      ],
      "execution_count": 66,
      "outputs": [
        {
          "output_type": "stream",
          "text": [
            "Genre Adventure\n",
            "Дисперсия user_score  1.711169534457158\n",
            "Стандартное отклонение user_score 1.308116789303294\n",
            "Дисперсия crtitic_score  159.4159779614326\n",
            "Стандартное отклонение crtitic_score 12.62600403775607\n"
          ],
          "name": "stdout"
        }
      ]
    },
    {
      "cell_type": "code",
      "metadata": {
        "colab": {
          "base_uri": "https://localhost:8080/"
        },
        "id": "8qH9a7BydPps",
        "outputId": "e6a4d10d-e1e4-497b-f139-9c156ada2aef"
      },
      "source": [
        "data.groupby('rating')['user_score'].mean().sort_values(ascending = False)\n"
      ],
      "execution_count": 67,
      "outputs": [
        {
          "output_type": "execute_result",
          "data": {
            "text/plain": [
              "rating\n",
              "        7.009091\n",
              "T       6.839184\n",
              "RP      6.800000\n",
              "M       6.796028\n",
              "E10+    6.713212\n",
              "E       6.247016\n",
              "EC           NaN\n",
              "Name: user_score, dtype: float64"
            ]
          },
          "metadata": {
            "tags": []
          },
          "execution_count": 67
        }
      ]
    },
    {
      "cell_type": "code",
      "metadata": {
        "colab": {
          "base_uri": "https://localhost:8080/"
        },
        "id": "0xpYuUeKdPmH",
        "outputId": "25488f39-73da-4a74-ae01-ee3815984f6b"
      },
      "source": [
        "data.groupby('rating')['crtitic_score'].mean().sort_values(ascending = False)\n"
      ],
      "execution_count": 68,
      "outputs": [
        {
          "output_type": "execute_result",
          "data": {
            "text/plain": [
              "rating\n",
              "M       72.708649\n",
              "E       70.746988\n",
              "E10+    69.391408\n",
              "T       68.960000\n",
              "        67.616667\n",
              "RP      63.000000\n",
              "EC            NaN\n",
              "Name: crtitic_score, dtype: float64"
            ]
          },
          "metadata": {
            "tags": []
          },
          "execution_count": 68
        }
      ]
    },
    {
      "cell_type": "code",
      "metadata": {
        "colab": {
          "base_uri": "https://localhost:8080/",
          "height": 298
        },
        "id": "vS50B4xQdPjB",
        "outputId": "9340d825-546d-4887-9a7b-66ce3e8c1af6"
      },
      "source": [
        "data_action['crtitic_score'].hist(range = (1,100))\n",
        "plt.xlabel(\"critic_score\")\n",
        "plt.ylabel(\"genre - Action\")\n"
      ],
      "execution_count": 69,
      "outputs": [
        {
          "output_type": "execute_result",
          "data": {
            "text/plain": [
              "Text(0, 0.5, 'genre - Action')"
            ]
          },
          "metadata": {
            "tags": []
          },
          "execution_count": 69
        },
        {
          "output_type": "display_data",
          "data": {
            "image/png": "[encoded data removed]",
            "text/plain": [
              "<Figure size 432x288 with 1 Axes>"
            ]
          },
          "metadata": {
            "tags": [],
            "needs_background": "light"
          }
        }
      ]
    },
    {
      "cell_type": "code",
      "metadata": {
        "colab": {
          "base_uri": "https://localhost:8080/",
          "height": 296
        },
        "id": "xSfiCoZedPgq",
        "outputId": "f52cb74a-986b-4d84-d576-4d15bfb4e522"
      },
      "source": [
        "data_action['user_score'].hist(range = (1,10))\n",
        "plt.xlabel(\"user_score\")\n",
        "plt.ylabel(\"genre - Action\")\n"
      ],
      "execution_count": 70,
      "outputs": [
        {
          "output_type": "execute_result",
          "data": {
            "text/plain": [
              "Text(0, 0.5, 'genre - Action')"
            ]
          },
          "metadata": {
            "tags": []
          },
          "execution_count": 70
        },
        {
          "output_type": "display_data",
          "data": {
            "image/png": "[encoded data removed]",
            "text/plain": [
              "<Figure size 432x288 with 1 Axes>"
            ]
          },
          "metadata": {
            "tags": [],
            "needs_background": "light"
          }
        }
      ]
    },
    {
      "cell_type": "code",
      "metadata": {
        "colab": {
          "base_uri": "https://localhost:8080/",
          "height": 297
        },
        "id": "WJPzeA-OdVzy",
        "outputId": "173e9157-0d91-4783-e299-d656a8da7d67"
      },
      "source": [
        "data_role_playing['crtitic_score'].hist(range = (1,100))\n",
        "plt.xlabel(\"critic_score\")\n",
        "plt.ylabel(\"genre - Role - Playing\")\n"
      ],
      "execution_count": 71,
      "outputs": [
        {
          "output_type": "execute_result",
          "data": {
            "text/plain": [
              "Text(0, 0.5, 'genre - Role - Playing')"
            ]
          },
          "metadata": {
            "tags": []
          },
          "execution_count": 71
        },
        {
          "output_type": "display_data",
          "data": {
            "image/png": "[encoded data removed]",
            "text/plain": [
              "<Figure size 432x288 with 1 Axes>"
            ]
          },
          "metadata": {
            "tags": [],
            "needs_background": "light"
          }
        }
      ]
    },
    {
      "cell_type": "code",
      "metadata": {
        "colab": {
          "base_uri": "https://localhost:8080/",
          "height": 296
        },
        "id": "We2kqB9jdVxc",
        "outputId": "a2e4342a-babf-4107-cdd7-fe31e360acf6"
      },
      "source": [
        "data_role_playing['user_score'].hist(range = (1,10))\n",
        "plt.xlabel(\"user_score\")\n",
        "plt.ylabel(\"genre - Role-playing\")\n"
      ],
      "execution_count": 72,
      "outputs": [
        {
          "output_type": "execute_result",
          "data": {
            "text/plain": [
              "Text(0, 0.5, 'genre - Role-playing')"
            ]
          },
          "metadata": {
            "tags": []
          },
          "execution_count": 72
        },
        {
          "output_type": "display_data",
          "data": {
            "image/png": "[encoded data removed]",
            "text/plain": [
              "<Figure size 432x288 with 1 Axes>"
            ]
          },
          "metadata": {
            "tags": [],
            "needs_background": "light"
          }
        }
      ]
    },
    {
      "cell_type": "code",
      "metadata": {
        "colab": {
          "base_uri": "https://localhost:8080/",
          "height": 297
        },
        "id": "hvURGpC4dVr7",
        "outputId": "feb278d3-0ca3-4302-b49a-d8c966462562"
      },
      "source": [
        "data_adventure['crtitic_score'].hist(range = (1,100))\n",
        "plt.xlabel(\"critic_score\")\n",
        "plt.ylabel(\"genre - Adventure\")\n"
      ],
      "execution_count": 73,
      "outputs": [
        {
          "output_type": "execute_result",
          "data": {
            "text/plain": [
              "Text(0, 0.5, 'genre - Adventure')"
            ]
          },
          "metadata": {
            "tags": []
          },
          "execution_count": 73
        },
        {
          "output_type": "display_data",
          "data": {
            "image/png": "[encoded data removed]",
            "text/plain": [
              "<Figure size 432x288 with 1 Axes>"
            ]
          },
          "metadata": {
            "tags": [],
            "needs_background": "light"
          }
        }
      ]
    },
    {
      "cell_type": "code",
      "metadata": {
        "colab": {
          "base_uri": "https://localhost:8080/",
          "height": 296
        },
        "id": "XCcaVJwKdVqA",
        "outputId": "7724e033-a36a-42d9-c56b-7c5389364c82"
      },
      "source": [
        "data_adventure['user_score'].hist(range = (1,10))\n",
        "plt.xlabel(\"user_score\")\n",
        "plt.ylabel(\"genre - Adventure\")\n",
        "\n",
        "\n",
        "# Графики очень схожие, что помогает судить их одинаково. Сильного отличия ни у кого нет. Заметна тенденция - оценки пользователей в районе 6 до 8 самые частые, а у критиков от 60 - 70.\n",
        "\n",
        "# Начиная с подготовки данных до проверки гипотез, проект получился неплохим. Выяснили, что предпочтения игр\n",
        "# отдельного региона могут быть разными, а оценки пользователей не так сильно влияют на продажи.\n",
        "# На оценку критиков надо обращать внимание при подготовки данных для рекламной компании.\n",
        "# Не все данные хороши для анализа в настоящее время.\n",
        "# Выяснили будущих потенциальных монолистов рынка.\n",
        "# Игры хорошо продаются, где они хорошо рекламированы.\n",
        "# Проверили гипотезы, и узнали стандартное отклонение и дисперсию рейтингов игр разных жанров.\n",
        "# Данные готовы для будущего его использования!\n",
        "\n",
        "# Что было выполнено в ходе работы:\n",
        "# Первый шаг - подготовка данных:\n",
        "#     Заменил названия столбцов методом rename;\n",
        "#     Преобразовал данные в нужные типы;\n",
        "#     Проделал работу с пропусками;\n",
        "#     Выявили причины, которые могли привести к пропускам;\n",
        "#     Посчитал суммарные продажи во всех регионах и записал их в отдельный столбец.\n",
        "# Второй шаг - проведение исследовательского анализа данных:\n",
        "#     Узнали сколько игр выпускалось в разные годы.\n",
        "#     Установили характерный период появляние новых и исчезновение старых платформ.\n",
        "#     Определили потенциально прибыльных платформ.\n",
        "#     Построили диаграммы размаха для каждой платформы.\n",
        "#     Узнали значимость отзывов пользователей и критиков. Построили диаграмму рассеяния и посчитали корреляцию между отзывами и продажами.\n",
        "#     Выявили самые прибыльные жанры\n",
        "# Третий шаг - портрет пользователя каждого региона:\n",
        "#     Определили:\n",
        "#     Самые популярные платформы (топ-5).\n",
        "#     Самые популярные жанры (топ-5).\n",
        "#     Влияние рейтинга ESRB на продажи в отдельном регионе\n",
        "# Четвертый шаг - проведение исследования статистических показателей\n",
        "#     Узнали изменение пользовательского рейтинга и рейтинга критиков в различных жанрах?"
      ],
      "execution_count": 74,
      "outputs": [
        {
          "output_type": "execute_result",
          "data": {
            "text/plain": [
              "Text(0, 0.5, 'genre - Adventure')"
            ]
          },
          "metadata": {
            "tags": []
          },
          "execution_count": 74
        },
        {
          "output_type": "display_data",
          "data": {
            "image/png": "[encoded data removed]",
            "text/plain": [
              "<Figure size 432x288 with 1 Axes>"
            ]
          },
          "metadata": {
            "tags": [],
            "needs_background": "light"
          }
        }
      ]
    }
  ]
}